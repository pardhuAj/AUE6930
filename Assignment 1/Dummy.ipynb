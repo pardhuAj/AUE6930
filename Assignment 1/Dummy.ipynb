{
 "cells": [
  {
   "cell_type": "code",
   "execution_count": 6,
   "metadata": {},
   "outputs": [
    {
     "name": "stdout",
     "output_type": "stream",
     "text": [
      "The index of letter a is 13\n"
     ]
    }
   ],
   "source": [
    "s = \"Hey there! what should this string be?\"\n",
    "\n",
    "count =0\n",
    "for i in range(len(s)):\n",
    "    if s[i] == 'a':\n",
    "        print(f'The index of letter a is {count}')\n",
    "        break\n",
    "    else:\n",
    "        count+=1\n",
    "        "
   ]
  },
  {
   "cell_type": "code",
   "execution_count": 15,
   "metadata": {},
   "outputs": [
    {
     "name": "stdout",
     "output_type": "stream",
     "text": [
      "The occurrence of letter e is 4\n"
     ]
    }
   ],
   "source": [
    "s = \"Hey there! what should this string be?\"\n",
    "\n",
    "count =0\n",
    "for i in range(len(s)):\n",
    "    if s[i] == 'e':\n",
    "        count+=1\n",
    "    else:\n",
    "        pass\n",
    "print(f'The occurrence of letter e is {count}')"
   ]
  },
  {
   "cell_type": "code",
   "execution_count": 22,
   "metadata": {},
   "outputs": [
    {
     "name": "stdout",
     "output_type": "stream",
     "text": [
      "The statement with even index is ['H', 'y', 't', 'e', 'e', ' ', 'h', 't', 's', 'o', 'l', ' ', 'h', 's', 's', 'r', 'n', ' ', 'e']\n"
     ]
    }
   ],
   "source": [
    "s = \"Hey there! what should this string be?\"\n",
    "\n",
    "count =[] \n",
    "for i in range(len(s)):\n",
    "    if i%2 == 0:\n",
    "        count.append(s[i])\n",
    "    else:\n",
    "        pass\n",
    "print(f'The statement with even index is {count}')"
   ]
  },
  {
   "cell_type": "code",
   "execution_count": 24,
   "metadata": {},
   "outputs": [
    {
     "name": "stdout",
     "output_type": "stream",
     "text": [
      "Hytee htsol hssrn e"
     ]
    }
   ],
   "source": [
    "index = 0\n",
    "# iterate over string\n",
    "while index < len(s):\n",
    "    # print character at index\n",
    "    print(s[index], end='')\n",
    "    # increment index by 2\n",
    "    index = index + 2"
   ]
  },
  {
   "cell_type": "code",
   "execution_count": 28,
   "metadata": {},
   "outputs": [
    {
     "name": "stdout",
     "output_type": "stream",
     "text": [
      "?eb gnirts siht dluohs tahw !ereht yeH\n"
     ]
    }
   ],
   "source": [
    "index = len(s)\n",
    "count=''\n",
    "while index > 0:\n",
    "    count += s[index-1]\n",
    "    index = index-1\n",
    "print(count)"
   ]
  },
  {
   "cell_type": "code",
   "execution_count": 26,
   "metadata": {},
   "outputs": [
    {
     "data": {
      "text/plain": [
       "'Hey there! what should this string be?'"
      ]
     },
     "execution_count": 26,
     "metadata": {},
     "output_type": "execute_result"
    }
   ],
   "source": [
    "s"
   ]
  },
  {
   "cell_type": "code",
   "execution_count": 29,
   "metadata": {},
   "outputs": [
    {
     "data": {
      "text/plain": [
       "'?eb gnirts siht dluohs tahw !ereht yeH'"
      ]
     },
     "execution_count": 29,
     "metadata": {},
     "output_type": "execute_result"
    }
   ],
   "source": [
    "s[::-1]"
   ]
  },
  {
   "cell_type": "code",
   "execution_count": 30,
   "metadata": {},
   "outputs": [
    {
     "name": "stdout",
     "output_type": "stream",
     "text": [
      "?eb gnirts siht dluohs tahw !ereht yeH\n"
     ]
    }
   ],
   "source": [
    "print(s[::-1])"
   ]
  },
  {
   "cell_type": "code",
   "execution_count": 34,
   "metadata": {},
   "outputs": [
    {
     "data": {
      "text/plain": [
       "'?bgit itduh aw!rh e'"
      ]
     },
     "execution_count": 34,
     "metadata": {},
     "output_type": "execute_result"
    }
   ],
   "source": [
    "s[len(s)::-2]"
   ]
  },
  {
   "cell_type": "code",
   "execution_count": 54,
   "metadata": {},
   "outputs": [
    {
     "name": "stdout",
     "output_type": "stream",
     "text": [
      "Great\n"
     ]
    }
   ],
   "source": [
    "numbers = [\n",
    "    951, 402, 984, 651, 360, 69, 408, 319, 601, 485, 980, 507, 725, 547, 544,\n",
    "    615, 83, 165, 141, 501, 263, 617, 865, 575, 219, 390, 984, 592, 236, 105,\n",
    "    942, 941, 386, 462, 47, 418, 907, 344, 236, 375, 823, 566, 597, 978, 328, \n",
    "    615, 953, 345, 399, 162, 758, 219, 918, 237, 412, 566, 826, 248, 866, 950, \n",
    "    626, 949, 687, 217, 815, 67, 104, 58, 512, 24, 892, 894, 767, 553, 81, 379, \n",
    "    843, 831, 445, 742, 717, 958, 609, 842, 451, 688, 753, 854, 685, 93, 857, \n",
    "    440, 380, 126, 721, 328, 753, 470, 743, 527\n",
    "]\n",
    "\n",
    "even_numbers = []\n",
    "\n",
    "# TODO: pick even numbers and save them to even_numbers\n",
    "for i in range(len(numbers)):\n",
    "    if numbers[i] % 2 == 0 and numbers[i] <=500:\n",
    "        even_numbers.append(numbers[i])  \n",
    "# test code\n",
    "result = [402, 360, 408, 390, 236, 386, 462, 418, 344, 236, 328, 162, 412, 248, \n",
    "          104, 58, 24, 440, 380, 126, 328, 470]\n",
    "if all(i == j for i, j in zip(even_numbers, result)):\n",
    "    print('Great')"
   ]
  },
  {
   "cell_type": "code",
   "execution_count": 53,
   "metadata": {},
   "outputs": [
    {
     "data": {
      "text/plain": [
       "[360,\n",
       " 408,\n",
       " 83,\n",
       " 141,\n",
       " 263,\n",
       " 219,\n",
       " 236,\n",
       " 386,\n",
       " 47,\n",
       " 236,\n",
       " 328,\n",
       " 399,\n",
       " 412,\n",
       " 104,\n",
       " 81,\n",
       " 445,\n",
       " 451,\n",
       " 380]"
      ]
     },
     "execution_count": 53,
     "metadata": {},
     "output_type": "execute_result"
    }
   ],
   "source": [
    "even_numbers"
   ]
  },
  {
   "cell_type": "code",
   "execution_count": 66,
   "metadata": {},
   "outputs": [
    {
     "name": "stdout",
     "output_type": "stream",
     "text": [
      "John and 938477566\n",
      "Jack and 938377264\n",
      "Jake and 938273443\n"
     ]
    }
   ],
   "source": [
    "phonebook = {\n",
    "    \"John\" : 938477566,\n",
    "    \"Jack\" : 938377264,\n",
    "    \"Jill\" : 947662781\n",
    "}\n",
    "\n",
    "# TODO: add the given item\n",
    "phonebook[\"Jake\"]=938273443\n",
    "\n",
    "# TODO: remove the specific item\n",
    "# phonebook.pop(\"Jill\")\n",
    "del phonebook['Jill']\n",
    "\n",
    "# TODO: loop through the modifed dict and print out each key-value pair\n",
    "for key, value in phonebook.items():\n",
    "    print(f'{key} and {value}')"
   ]
  },
  {
   "cell_type": "code",
   "execution_count": 63,
   "metadata": {},
   "outputs": [
    {
     "data": {
      "text/plain": [
       "{'John': 938477566, 'Jack': 938377264, 'Jake': 938273443}"
      ]
     },
     "execution_count": 63,
     "metadata": {},
     "output_type": "execute_result"
    }
   ],
   "source": [
    "phonebook"
   ]
  },
  {
   "cell_type": "code",
   "execution_count": 67,
   "metadata": {},
   "outputs": [
    {
     "data": {
      "text/plain": [
       "['A',\n",
       " 'ASCII',\n",
       " 'DEBUG',\n",
       " 'DOTALL',\n",
       " 'I',\n",
       " 'IGNORECASE',\n",
       " 'L',\n",
       " 'LOCALE',\n",
       " 'M',\n",
       " 'MULTILINE',\n",
       " 'Match',\n",
       " 'Pattern',\n",
       " 'RegexFlag',\n",
       " 'S',\n",
       " 'Scanner',\n",
       " 'T',\n",
       " 'TEMPLATE',\n",
       " 'U',\n",
       " 'UNICODE',\n",
       " 'VERBOSE',\n",
       " 'X',\n",
       " '_MAXCACHE',\n",
       " '__all__',\n",
       " '__builtins__',\n",
       " '__cached__',\n",
       " '__doc__',\n",
       " '__file__',\n",
       " '__loader__',\n",
       " '__name__',\n",
       " '__package__',\n",
       " '__spec__',\n",
       " '__version__',\n",
       " '_cache',\n",
       " '_compile',\n",
       " '_compile_repl',\n",
       " '_expand',\n",
       " '_locale',\n",
       " '_pickle',\n",
       " '_special_chars_map',\n",
       " '_subx',\n",
       " 'compile',\n",
       " 'copyreg',\n",
       " 'enum',\n",
       " 'error',\n",
       " 'escape',\n",
       " 'findall',\n",
       " 'finditer',\n",
       " 'fullmatch',\n",
       " 'functools',\n",
       " 'match',\n",
       " 'purge',\n",
       " 'search',\n",
       " 'split',\n",
       " 'sre_compile',\n",
       " 'sre_parse',\n",
       " 'sub',\n",
       " 'subn',\n",
       " 'template']"
      ]
     },
     "execution_count": 67,
     "metadata": {},
     "output_type": "execute_result"
    }
   ],
   "source": [
    "import re\n",
    "\n",
    "\n",
    "# TODO: write your code here\n",
    "dir(re)"
   ]
  },
  {
   "cell_type": "code",
   "execution_count": 69,
   "metadata": {},
   "outputs": [],
   "source": [
    "from inspect import getmembers, isfunction\n",
    "# from my_project import my_module\n",
    "    \n",
    "functions_list = getmembers(re, isfunction)"
   ]
  },
  {
   "cell_type": "code",
   "execution_count": 70,
   "metadata": {},
   "outputs": [
    {
     "data": {
      "text/plain": [
       "[('_compile', <function re._compile(pattern, flags)>),\n",
       " ('_expand', <function re._expand(pattern, match, template)>),\n",
       " ('_pickle', <function re._pickle(p)>),\n",
       " ('_subx', <function re._subx(pattern, template)>),\n",
       " ('compile', <function re.compile(pattern, flags=0)>),\n",
       " ('escape', <function re.escape(pattern)>),\n",
       " ('findall', <function re.findall(pattern, string, flags=0)>),\n",
       " ('finditer', <function re.finditer(pattern, string, flags=0)>),\n",
       " ('fullmatch', <function re.fullmatch(pattern, string, flags=0)>),\n",
       " ('match', <function re.match(pattern, string, flags=0)>),\n",
       " ('purge', <function re.purge()>),\n",
       " ('search', <function re.search(pattern, string, flags=0)>),\n",
       " ('split', <function re.split(pattern, string, maxsplit=0, flags=0)>),\n",
       " ('sub', <function re.sub(pattern, repl, string, count=0, flags=0)>),\n",
       " ('subn', <function re.subn(pattern, repl, string, count=0, flags=0)>),\n",
       " ('template', <function re.template(pattern, flags=0)>)]"
      ]
     },
     "execution_count": 70,
     "metadata": {},
     "output_type": "execute_result"
    }
   ],
   "source": [
    "functions_list"
   ]
  },
  {
   "cell_type": "code",
   "execution_count": 80,
   "metadata": {},
   "outputs": [],
   "source": [
    "new_list=[]\n",
    "for i in range(len(functions_list)):\n",
    "    new_list.append(functions_list[i][0])"
   ]
  },
  {
   "cell_type": "code",
   "execution_count": 75,
   "metadata": {},
   "outputs": [
    {
     "data": {
      "text/plain": [
       "['A',\n",
       " 'ASCII',\n",
       " 'DEBUG',\n",
       " 'DOTALL',\n",
       " 'I',\n",
       " 'IGNORECASE',\n",
       " 'L',\n",
       " 'LOCALE',\n",
       " 'M',\n",
       " 'MULTILINE',\n",
       " 'Match',\n",
       " 'Pattern',\n",
       " 'RegexFlag',\n",
       " 'S',\n",
       " 'Scanner',\n",
       " 'T',\n",
       " 'TEMPLATE',\n",
       " 'U',\n",
       " 'UNICODE',\n",
       " 'VERBOSE',\n",
       " 'X',\n",
       " '_MAXCACHE',\n",
       " '__all__',\n",
       " '__builtins__',\n",
       " '__cached__',\n",
       " '__doc__',\n",
       " '__file__',\n",
       " '__loader__',\n",
       " '__name__',\n",
       " '__package__',\n",
       " '__spec__',\n",
       " '__version__',\n",
       " '_cache',\n",
       " '_compile',\n",
       " '_compile_repl',\n",
       " '_expand',\n",
       " '_locale',\n",
       " '_pickle',\n",
       " '_special_chars_map',\n",
       " '_subx',\n",
       " 'compile',\n",
       " 'copyreg',\n",
       " 'enum',\n",
       " 'error',\n",
       " 'escape',\n",
       " 'findall',\n",
       " 'finditer',\n",
       " 'fullmatch',\n",
       " 'functools',\n",
       " 'match',\n",
       " 'purge',\n",
       " 'search',\n",
       " 'split',\n",
       " 'sre_compile',\n",
       " 'sre_parse',\n",
       " 'sub',\n",
       " 'subn',\n",
       " 'template']"
      ]
     },
     "execution_count": 75,
     "metadata": {},
     "output_type": "execute_result"
    }
   ],
   "source": [
    "dir(re)"
   ]
  },
  {
   "cell_type": "code",
   "execution_count": 81,
   "metadata": {},
   "outputs": [
    {
     "data": {
      "text/plain": [
       "['_compile',\n",
       " '_expand',\n",
       " '_pickle',\n",
       " '_subx',\n",
       " 'compile',\n",
       " 'escape',\n",
       " 'findall',\n",
       " 'finditer',\n",
       " 'fullmatch',\n",
       " 'match',\n",
       " 'purge',\n",
       " 'search',\n",
       " 'split',\n",
       " 'sub',\n",
       " 'subn',\n",
       " 'template']"
      ]
     },
     "execution_count": 81,
     "metadata": {},
     "output_type": "execute_result"
    }
   ],
   "source": [
    "new_list"
   ]
  },
  {
   "cell_type": "code",
   "execution_count": 89,
   "metadata": {},
   "outputs": [],
   "source": [
    "lst=[s for s in new_list if \"find\" in s]"
   ]
  },
  {
   "cell_type": "code",
   "execution_count": 90,
   "metadata": {},
   "outputs": [
    {
     "data": {
      "text/plain": [
       "['findall', 'finditer']"
      ]
     },
     "execution_count": 90,
     "metadata": {},
     "output_type": "execute_result"
    }
   ],
   "source": [
    "lst"
   ]
  },
  {
   "cell_type": "code",
   "execution_count": 93,
   "metadata": {},
   "outputs": [
    {
     "name": "stdout",
     "output_type": "stream",
     "text": [
      "lladnif\n"
     ]
    }
   ],
   "source": [
    "print(f'{lst[0][::-1]}')"
   ]
  },
  {
   "cell_type": "code",
   "execution_count": 94,
   "metadata": {},
   "outputs": [],
   "source": [
    "lst.reverse()"
   ]
  },
  {
   "cell_type": "code",
   "execution_count": 95,
   "metadata": {},
   "outputs": [
    {
     "data": {
      "text/plain": [
       "['finditer', 'findall']"
      ]
     },
     "execution_count": 95,
     "metadata": {},
     "output_type": "execute_result"
    }
   ],
   "source": [
    "lst"
   ]
  },
  {
   "cell_type": "code",
   "execution_count": 108,
   "metadata": {},
   "outputs": [
    {
     "name": "stdout",
     "output_type": "stream",
     "text": [
      "['finditer', 'findall']\n"
     ]
    }
   ],
   "source": [
    "import re\n",
    "# TODO: write your code here\n",
    "from inspect import getmembers, isfunction\n",
    "funclist=getmembers(re,isfunction)\n",
    "new_list=[]\n",
    "for i in range(len(funclist)):\n",
    "    new_list.append(funclist[i][0])\n",
    "lst=[s for s in new_list if 'find' in s]\n",
    "lst.reverse()\n",
    "print(f'{lst}')"
   ]
  },
  {
   "cell_type": "code",
   "execution_count": 97,
   "metadata": {},
   "outputs": [
    {
     "data": {
      "text/plain": [
       "['_compile',\n",
       " '_expand',\n",
       " '_pickle',\n",
       " '_subx',\n",
       " 'compile',\n",
       " 'escape',\n",
       " 'findall',\n",
       " 'finditer',\n",
       " 'fullmatch',\n",
       " 'match',\n",
       " 'purge',\n",
       " 'search',\n",
       " 'split',\n",
       " 'sub',\n",
       " 'subn',\n",
       " 'template']"
      ]
     },
     "execution_count": 97,
     "metadata": {},
     "output_type": "execute_result"
    }
   ],
   "source": [
    "new_list"
   ]
  },
  {
   "cell_type": "code",
   "execution_count": 98,
   "metadata": {},
   "outputs": [
    {
     "data": {
      "text/plain": [
       "['finditer', 'findall']"
      ]
     },
     "execution_count": 98,
     "metadata": {},
     "output_type": "execute_result"
    }
   ],
   "source": [
    "lst"
   ]
  },
  {
   "cell_type": "code",
   "execution_count": 103,
   "metadata": {},
   "outputs": [
    {
     "name": "stdout",
     "output_type": "stream",
     "text": [
      "['findall', 'finditer']\n"
     ]
    }
   ],
   "source": [
    "print(f'{lst}')"
   ]
  },
  {
   "cell_type": "code",
   "execution_count": 100,
   "metadata": {},
   "outputs": [],
   "source": [
    "lst.reverse()"
   ]
  },
  {
   "cell_type": "code",
   "execution_count": 101,
   "metadata": {},
   "outputs": [
    {
     "name": "stdout",
     "output_type": "stream",
     "text": [
      "lst.reverse()\n"
     ]
    }
   ],
   "source": [
    "print(\"lst.reverse()\")"
   ]
  },
  {
   "cell_type": "code",
   "execution_count": 106,
   "metadata": {},
   "outputs": [],
   "source": [
    "lst.reverse()"
   ]
  },
  {
   "cell_type": "code",
   "execution_count": 107,
   "metadata": {},
   "outputs": [
    {
     "data": {
      "text/plain": [
       "['finditer', 'findall']"
      ]
     },
     "execution_count": 107,
     "metadata": {},
     "output_type": "execute_result"
    }
   ],
   "source": [
    "lst"
   ]
  },
  {
   "cell_type": "code",
   "execution_count": 165,
   "metadata": {},
   "outputs": [],
   "source": [
    "import numpy as np\n",
    "A = np.arange(1, 10, 1).reshape(3, 3)\n",
    "B = np.arange(1, 10, 1).reshape(3, 3)\n",
    "C1 = np.copy(A[0])\n",
    "C2 = np.copy(A[1])\n",
    "C3 = np.copy(A[2])"
   ]
  },
  {
   "cell_type": "code",
   "execution_count": 111,
   "metadata": {},
   "outputs": [
    {
     "data": {
      "text/plain": [
       "array([[ 1,  4,  9],\n",
       "       [16, 25, 36],\n",
       "       [49, 64, 81]])"
      ]
     },
     "execution_count": 111,
     "metadata": {},
     "output_type": "execute_result"
    }
   ],
   "source": [
    "np.array(A*B)"
   ]
  },
  {
   "cell_type": "code",
   "execution_count": 122,
   "metadata": {},
   "outputs": [],
   "source": [
    "a=0\n",
    "for i in range(3):\n",
    "    for j in range(3):\n",
    "        a=a+A[i,j]**2"
   ]
  },
  {
   "cell_type": "code",
   "execution_count": 123,
   "metadata": {},
   "outputs": [
    {
     "data": {
      "text/plain": [
       "285"
      ]
     },
     "execution_count": 123,
     "metadata": {},
     "output_type": "execute_result"
    }
   ],
   "source": [
    "a"
   ]
  },
  {
   "cell_type": "code",
   "execution_count": 157,
   "metadata": {},
   "outputs": [],
   "source": [
    "D=np.random.randint(1, size=(100, 100))"
   ]
  },
  {
   "cell_type": "code",
   "execution_count": 158,
   "metadata": {},
   "outputs": [
    {
     "data": {
      "text/plain": [
       "array([[0, 0, 0, ..., 0, 0, 0],\n",
       "       [0, 0, 0, ..., 0, 0, 0],\n",
       "       [0, 0, 0, ..., 0, 0, 0],\n",
       "       ...,\n",
       "       [0, 0, 0, ..., 0, 0, 0],\n",
       "       [0, 0, 0, ..., 0, 0, 0],\n",
       "       [0, 0, 0, ..., 0, 0, 0]])"
      ]
     },
     "execution_count": 158,
     "metadata": {},
     "output_type": "execute_result"
    }
   ],
   "source": [
    "D"
   ]
  },
  {
   "cell_type": "code",
   "execution_count": 159,
   "metadata": {},
   "outputs": [
    {
     "data": {
      "text/plain": [
       "100"
      ]
     },
     "execution_count": 159,
     "metadata": {},
     "output_type": "execute_result"
    }
   ],
   "source": [
    "len(D)"
   ]
  },
  {
   "cell_type": "code",
   "execution_count": 162,
   "metadata": {},
   "outputs": [],
   "source": [
    "D=np.random.randint(10, size=(100, 100))\n",
    "E=np.random.randint(10, size=(100, 100))\n",
    "\n",
    "# TODO: element-wise product of D and E\n",
    "F=np.array(D*E)\n",
    "\n",
    "G=np.random.randint(1, size=(100, 100))\n",
    "\n",
    "for i in range(len(D)):\n",
    "    for j in range(len(D)):\n",
    "        G[i,j]=D[i,j]*E[i,j]"
   ]
  },
  {
   "cell_type": "code",
   "execution_count": 163,
   "metadata": {},
   "outputs": [
    {
     "data": {
      "text/plain": [
       "array([[10, 27,  6, ..., 16, 40,  5],\n",
       "       [ 8, 81,  3, ..., 40, 42, 20],\n",
       "       [ 4,  8,  8, ..., 20,  0,  9],\n",
       "       ...,\n",
       "       [ 0, 40,  0, ...,  3, 25,  8],\n",
       "       [ 0, 24,  0, ..., 16,  0, 12],\n",
       "       [48, 42, 36, ...,  4,  0, 36]])"
      ]
     },
     "execution_count": 163,
     "metadata": {},
     "output_type": "execute_result"
    }
   ],
   "source": [
    "F"
   ]
  },
  {
   "cell_type": "code",
   "execution_count": 164,
   "metadata": {},
   "outputs": [
    {
     "data": {
      "text/plain": [
       "array([[10, 27,  6, ..., 16, 40,  5],\n",
       "       [ 8, 81,  3, ..., 40, 42, 20],\n",
       "       [ 4,  8,  8, ..., 20,  0,  9],\n",
       "       ...,\n",
       "       [ 0, 40,  0, ...,  3, 25,  8],\n",
       "       [ 0, 24,  0, ..., 16,  0, 12],\n",
       "       [48, 42, 36, ...,  4,  0, 36]])"
      ]
     },
     "execution_count": 164,
     "metadata": {},
     "output_type": "execute_result"
    }
   ],
   "source": [
    "G"
   ]
  },
  {
   "cell_type": "code",
   "execution_count": 167,
   "metadata": {},
   "outputs": [
    {
     "data": {
      "text/plain": [
       "(3, 3)"
      ]
     },
     "execution_count": 167,
     "metadata": {},
     "output_type": "execute_result"
    }
   ],
   "source": [
    "A.shape"
   ]
  },
  {
   "cell_type": "code",
   "execution_count": 168,
   "metadata": {},
   "outputs": [
    {
     "data": {
      "text/plain": [
       "(3,)"
      ]
     },
     "execution_count": 168,
     "metadata": {},
     "output_type": "execute_result"
    }
   ],
   "source": [
    "A[0].shape"
   ]
  },
  {
   "cell_type": "code",
   "execution_count": 169,
   "metadata": {},
   "outputs": [],
   "source": [
    "import matplotlib.pyplot as plt\n",
    "import numpy as np\n",
    "\n",
    "%matplotlib inline\n",
    "\n",
    "\n",
    "# Init\n",
    "x = np.linspace(-10, 10, 100)\n",
    "\n",
    "# TODO: write your code here\n",
    "\n",
    "def gaussian(x,mu,sd):\n",
    "    y=(np.exp(-0.5*((x-mu)/sd)**2))/(sd*(2*np.pi)**0.5)\n",
    "    return y\n",
    "y1=gaussian(x,0,1)\n",
    "y2=gaussian(x,3,0.5)\n",
    "y3=gaussian(x,-2,2)"
   ]
  },
  {
   "cell_type": "code",
   "execution_count": 170,
   "metadata": {},
   "outputs": [
    {
     "data": {
      "text/plain": [
       "array([7.69459863e-23, 5.68442201e-22, 4.03145816e-21, 2.74481769e-20,\n",
       "       1.79407401e-19, 1.12575195e-18, 6.78141882e-18, 3.92169602e-17,\n",
       "       2.17722239e-16, 1.16039850e-15, 5.93727315e-15, 2.91636853e-14,\n",
       "       1.37522348e-13, 6.22557774e-13, 2.70558725e-12, 1.12880502e-11,\n",
       "       4.52118024e-11, 1.73844203e-10, 6.41717835e-10, 2.27406833e-09,\n",
       "       7.73639102e-09, 2.52667171e-08, 7.92199799e-08, 2.38449349e-07,\n",
       "       6.89021948e-07, 1.91137312e-06, 5.09018302e-06, 1.30135811e-05,\n",
       "       3.19400618e-05, 7.52575687e-05, 1.70231576e-04, 3.69662637e-04,\n",
       "       7.70631042e-04, 1.54227900e-03, 2.96315857e-03, 5.46540492e-03,\n",
       "       9.67754721e-03, 1.64506763e-02, 2.68458845e-02, 4.20578610e-02,\n",
       "       6.32546052e-02, 9.13298239e-02, 1.26592680e-01, 1.68453513e-01,\n",
       "       2.15192461e-01, 2.63906165e-01, 3.10704486e-01, 3.51172916e-01,\n",
       "       3.81039507e-01, 3.96912251e-01, 3.96912251e-01, 3.81039507e-01,\n",
       "       3.51172916e-01, 3.10704486e-01, 2.63906165e-01, 2.15192461e-01,\n",
       "       1.68453513e-01, 1.26592680e-01, 9.13298239e-02, 6.32546052e-02,\n",
       "       4.20578610e-02, 2.68458845e-02, 1.64506763e-02, 9.67754721e-03,\n",
       "       5.46540492e-03, 2.96315857e-03, 1.54227900e-03, 7.70631042e-04,\n",
       "       3.69662637e-04, 1.70231576e-04, 7.52575687e-05, 3.19400618e-05,\n",
       "       1.30135811e-05, 5.09018302e-06, 1.91137312e-06, 6.89021948e-07,\n",
       "       2.38449349e-07, 7.92199799e-08, 2.52667171e-08, 7.73639102e-09,\n",
       "       2.27406833e-09, 6.41717835e-10, 1.73844203e-10, 4.52118024e-11,\n",
       "       1.12880502e-11, 2.70558725e-12, 6.22557774e-13, 1.37522348e-13,\n",
       "       2.91636853e-14, 5.93727315e-15, 1.16039850e-15, 2.17722239e-16,\n",
       "       3.92169602e-17, 6.78141882e-18, 1.12575195e-18, 1.79407401e-19,\n",
       "       2.74481769e-20, 4.03145816e-21, 5.68442201e-22, 7.69459863e-23])"
      ]
     },
     "execution_count": 170,
     "metadata": {},
     "output_type": "execute_result"
    }
   ],
   "source": [
    "y1"
   ]
  },
  {
   "cell_type": "code",
   "execution_count": 171,
   "metadata": {},
   "outputs": [
    {
     "data": {
      "text/plain": [
       "(100,)"
      ]
     },
     "execution_count": 171,
     "metadata": {},
     "output_type": "execute_result"
    }
   ],
   "source": [
    "y1.shape"
   ]
  },
  {
   "cell_type": "code",
   "execution_count": 144,
   "metadata": {},
   "outputs": [
    {
     "data": {
      "image/png": "[encoded data removed]",
      "text/plain": [
       "<Figure size 1080x432 with 1 Axes>"
      ]
     },
     "metadata": {
      "needs_background": "light"
     },
     "output_type": "display_data"
    },
    {
     "name": "stdout",
     "output_type": "stream",
     "text": [
      "The mean of covid dataset is 399663.10\n",
      "The variance of covid dataset is 112156075458.22\n"
     ]
    },
    {
     "data": {
      "image/png": "[encoded data removed]",
      "text/plain": [
       "<Figure size 1080x432 with 1 Axes>"
      ]
     },
     "metadata": {
      "needs_background": "light"
     },
     "output_type": "display_data"
    },
    {
     "data": {
      "image/png": "[encoded data removed]",
      "text/plain": [
       "<Figure size 1080x432 with 1 Axes>"
      ]
     },
     "metadata": {
      "needs_background": "light"
     },
     "output_type": "display_data"
    },
    {
     "data": {
      "image/png": "[encoded data removed]",
      "text/plain": [
       "<Figure size 1080x432 with 1 Axes>"
      ]
     },
     "metadata": {
      "needs_background": "light"
     },
     "output_type": "display_data"
    }
   ],
   "source": [
    "import csv\n",
    "import numpy as np\n",
    "import matplotlib.pyplot as plt\n",
    "\n",
    "%matplotlib inline\n",
    "rows = []\n",
    "# TODO: read dataset\n",
    "with open('covid_confirmed_SC.csv','r') as f:\n",
    "    csvreader = csv.reader(f)\n",
    "    header = next(csvreader)                              \n",
    "    for row in csvreader:\n",
    "        rows.append(row)\n",
    "# TODO: data preprocessing\n",
    "raw_data=np.asarray(rows)\n",
    "covid_data=np.delete(raw_data,0,1)\n",
    "daily_cases=np.empty((covid_data.shape[1]-1)) # daily increase in cases\n",
    "sum_daily=np.empty((covid_data.shape[1])) # total daily cases\n",
    "a=0\n",
    "for j in range(len(covid_data[0])):\n",
    "    for i in range(len(covid_data)):\n",
    "        a+=(int(covid_data[i,j]))\n",
    "    sum_daily[j]=a\n",
    "    a=0    \n",
    "for j in range(len(covid_data[0])-1):\n",
    "    daily_cases[j]=sum_daily[j+1]-sum_daily[j]\n",
    "plt.figure(figsize=(15,6))\n",
    "plt.bar(np.arange(len(daily_cases)),daily_cases,width=2)\n",
    "plt.title('Bar chart of total Daily increase in SC counties ')\n",
    "plt.xlabel('time')\n",
    "plt.ylabel('Total Daily increase')\n",
    "plt.grid()\n",
    "plt.show() \n",
    "# TODO: find mean and variance \n",
    "mean=np.mean(sum_daily)\n",
    "variance=np.var(sum_daily)\n",
    "print(f'The mean of covid dataset is {mean:.2f}')\n",
    "print(f'The variance of covid dataset is {variance:.2f}')\n",
    "# TODO: define the function moving_avg(data, n) and find the moving average for 7 days\n",
    "def moving_avg(data,n):\n",
    "    avg=0\n",
    "    mv_avg=[]\n",
    "    for i in range(len(data)-n):\n",
    "        avg=(np.sum(data[i:i+n]))/n\n",
    "        mv_avg.append(avg)\n",
    "    return mv_avg\n",
    "\n",
    "mvg=moving_avg(sum_daily,7)\n",
    "plt.figure(figsize=(15,6))\n",
    "plt.plot(np.arange(len(mvg)),np.asarray(mvg),linewidth=2)\n",
    "plt.title('Moving Average ')\n",
    "plt.xlabel('time')\n",
    "plt.ylabel('Daily Average cases in SC')\n",
    "plt.grid()\n",
    "plt.show() \n",
    "\n",
    "# TODO: define the function EWMA(data, alpha) and calculate the exponential weighted moving average when alpha=0.9\n",
    "def EWMA(data,alpha):\n",
    "    ewma=[data[0]]\n",
    "    avg=0\n",
    "    for i in range(1,len(data)):\n",
    "        avg=alpha*data[i]+(1-alpha)*(np.mean(data[:i]))\n",
    "        ewma.append(avg)\n",
    "    return ewma\n",
    "ewma=EWMA(sum_daily,0.9)\n",
    "plt.figure(figsize=(15,6))\n",
    "plt.plot(np.arange(len(ewma)),np.asarray(ewma),linewidth=2)\n",
    "plt.title('EWMA ')\n",
    "plt.xlabel('time')\n",
    "plt.ylabel('Daily Average cases in SC')\n",
    "plt.grid()\n",
    "plt.show() \n",
    "\n",
    "# TODO: plot the daily increase cases curve for moving average results and exponential weighted moving average results\n",
    "plt.figure(figsize=(15,6))\n",
    "plt.plot(np.arange(len(mvg)),np.asarray(mvg),linewidth=2,label='Moving average',color='b')\n",
    "plt.plot(np.arange(len(ewma)),np.asarray(ewma),linewidth=2,label='EWMA',color='r')\n",
    "plt.title('Various plots such as moving average and Exponential moving average ')\n",
    "plt.xlabel('time')\n",
    "plt.ylabel('Covid cases')\n",
    "plt.grid()\n",
    "plt.legend(loc=\"upper left\")\n",
    "plt.show() "
   ]
  },
  {
   "cell_type": "markdown",
   "metadata": {},
   "source": [
    "#count=2\n",
    "#while count <= len(rows[0])-1:\n",
    "   # daily_increase.append(int(rows[0][count])-int(rows[0][count-1]))\n",
    "    #count+=1\n",
    "'''daily_increase=np.zeros((46, 727))\n",
    "data=np.zeros((46,728))\n",
    "sum_daily=[]\n",
    "covid_city=[]\n",
    "sum_total=0\n",
    "sum_list=[]\n",
    "for i in range(len(rows)):\n",
    "    for j in range(len(rows[0])-2):\n",
    "        daily_increase[i][j]=int(rows[i][j+2])-int(rows[i][j+1])\n",
    "    for j in range(len(rows[0])-1):\n",
    "        sum_total+=int(rows[i][j+1])\n",
    "        sum_list.append(int(rows[i][j+1]))\n",
    "    sum_daily.append(sum(daily_increase[i][:]))\n",
    "    covid_city.append(rows[i][0])\n",
    "    data[i][:]=rows[i][1:]\n",
    "# TODO: generate the positive increase number bar plot\n",
    "plt.bar(covid_city,sum_daily)\n",
    "plt.title('Bar chart of total Daily increase in SC counties ')\n",
    "plt.xlabel('SC Counties')\n",
    "plt.ylabel('Total Daily increase')\n",
    "plt.show()\n",
    "'''"
   ]
  },
  {
   "cell_type": "code",
   "execution_count": 103,
   "metadata": {},
   "outputs": [
    {
     "data": {
      "text/plain": [
       "0"
      ]
     },
     "execution_count": 103,
     "metadata": {},
     "output_type": "execute_result"
    }
   ],
   "source": [
    "raw_data[0][56].astype('int')"
   ]
  },
  {
   "cell_type": "code",
   "execution_count": 111,
   "metadata": {},
   "outputs": [],
   "source": [
    "avg=0"
   ]
  },
  {
   "cell_type": "code",
   "execution_count": 112,
   "metadata": {},
   "outputs": [
    {
     "data": {
      "text/plain": [
       "int"
      ]
     },
     "execution_count": 112,
     "metadata": {},
     "output_type": "execute_result"
    }
   ],
   "source": [
    "type(avg)"
   ]
  },
  {
   "cell_type": "code",
   "execution_count": 113,
   "metadata": {},
   "outputs": [
    {
     "data": {
      "text/plain": [
       "range(0, 728)"
      ]
     },
     "execution_count": 113,
     "metadata": {},
     "output_type": "execute_result"
    }
   ],
   "source": [
    "range(len(sum_daily))"
   ]
  },
  {
   "cell_type": "code",
   "execution_count": 138,
   "metadata": {},
   "outputs": [
    {
     "data": {
      "text/plain": [
       "range(1, 721)"
      ]
     },
     "execution_count": 138,
     "metadata": {},
     "output_type": "execute_result"
    }
   ],
   "source": [
    "range(1,len(sum_daily)-7)"
   ]
  },
  {
   "cell_type": "code",
   "execution_count": 117,
   "metadata": {},
   "outputs": [
    {
     "data": {
      "text/plain": [
       "array([0., 0., 0., 0., 0., 0., 0.])"
      ]
     },
     "execution_count": 117,
     "metadata": {},
     "output_type": "execute_result"
    }
   ],
   "source": [
    "sum_daily[0:0+7]"
   ]
  },
  {
   "cell_type": "code",
   "execution_count": 131,
   "metadata": {},
   "outputs": [],
   "source": [
    "lst=[]\n",
    "lst.append(0)"
   ]
  },
  {
   "cell_type": "code",
   "execution_count": 136,
   "metadata": {},
   "outputs": [],
   "source": [
    "lst.insert(0,33)"
   ]
  },
  {
   "cell_type": "code",
   "execution_count": 140,
   "metadata": {},
   "outputs": [
    {
     "data": {
      "text/plain": [
       "727"
      ]
     },
     "execution_count": 140,
     "metadata": {},
     "output_type": "execute_result"
    }
   ],
   "source": [
    "len(daily_cases)"
   ]
  },
  {
   "cell_type": "code",
   "execution_count": 143,
   "metadata": {},
   "outputs": [
    {
     "data": {
      "text/plain": [
       "[0.0,\n",
       " 0.9,\n",
       " 0.9,\n",
       " 0.9,\n",
       " 0.9,\n",
       " 0.9,\n",
       " 0.9,\n",
       " 0.9,\n",
       " 0.9,\n",
       " 0.9,\n",
       " 0.9,\n",
       " 0.9,\n",
       " 0.9,\n",
       " 0.9,\n",
       " 0.9,\n",
       " 0.9,\n",
       " 0.9,\n",
       " 0.9,\n",
       " 0.9,\n",
       " 0.9,\n",
       " 0.9,\n",
       " 0.9,\n",
       " 0.9,\n",
       " 0.9,\n",
       " 0.9,\n",
       " 0.9,\n",
       " 0.9,\n",
       " 0.9,\n",
       " 0.9,\n",
       " 0.9,\n",
       " 0.9,\n",
       " 0.9,\n",
       " 0.9,\n",
       " 0.9,\n",
       " 0.9,\n",
       " 0.9,\n",
       " 0.9,\n",
       " 0.9,\n",
       " 0.9,\n",
       " 0.9,\n",
       " 0.9,\n",
       " 0.9,\n",
       " 0.9,\n",
       " 0.9,\n",
       " 0.9,\n",
       " 0.9044444444444445,\n",
       " 0.9152173913043479,\n",
       " 0.9297872340425533,\n",
       " 0.9479166666666666,\n",
       " 0.9673469387755103,\n",
       " 0.99,\n",
       " 1.0137254901960784,\n",
       " 1.0365384615384616,\n",
       " 1.069811320754717,\n",
       " 1.1185185185185185,\n",
       " 1.1745454545454546,\n",
       " 1.2535714285714286,\n",
       " 1.3526315789473684,\n",
       " 1.482758620689655,\n",
       " 1.683050847457627,\n",
       " 1.955,\n",
       " 2.2540983606557377,\n",
       " 2.711290322580645,\n",
       " 3.2222222222222214,\n",
       " 3.8484374999999993,\n",
       " 4.499999999999999,\n",
       " 5.262121212121212,\n",
       " 6.182089552238804,\n",
       " 7.233823529411763,\n",
       " 8.482608695652171,\n",
       " 9.921428571428569,\n",
       " 11.615492957746476,\n",
       " 13.623611111111108,\n",
       " 15.776712328767122,\n",
       " 18.160810810810805,\n",
       " 20.661333333333328,\n",
       " 23.33552631578947,\n",
       " 26.180519480519475,\n",
       " 29.12692307692307,\n",
       " 32.303797468354425,\n",
       " 35.741249999999994,\n",
       " 39.09382716049382,\n",
       " 42.66585365853658,\n",
       " 46.30481927710842,\n",
       " 49.994047619047606,\n",
       " 53.721176470588226,\n",
       " 57.65930232558138,\n",
       " 61.69770114942528,\n",
       " 65.82613636363635,\n",
       " 70.00561797752809,\n",
       " 74.16444444444443,\n",
       " 78.41978021978021,\n",
       " 82.74891304347825,\n",
       " 87.1548387096774,\n",
       " 91.62872340425531,\n",
       " 96.19263157894736,\n",
       " 100.66145833333331,\n",
       " 105.41752577319585,\n",
       " 110.20204081632652,\n",
       " 115.03838383838381,\n",
       " 119.99199999999999,\n",
       " 125.00495049504948,\n",
       " 130.14607843137253,\n",
       " 135.3155339805825,\n",
       " 140.51153846153844,\n",
       " 145.69238095238092,\n",
       " 150.86886792452827,\n",
       " 156.13925233644855,\n",
       " 161.52037037037033,\n",
       " 166.95321100917428,\n",
       " 172.3972727272727,\n",
       " 177.86126126126123,\n",
       " 183.3366071428571,\n",
       " 188.8247787610619,\n",
       " 194.35964912280699,\n",
       " 199.98260869565215,\n",
       " 205.73017241379307,\n",
       " 211.51025641025635,\n",
       " 217.2966101694915,\n",
       " 223.08319327731087,\n",
       " 228.87499999999994,\n",
       " 234.74132231404957,\n",
       " 240.7229508196721,\n",
       " 246.81788617886173,\n",
       " 252.97338709677413,\n",
       " 259.0983999999999,\n",
       " 265.31507936507927,\n",
       " 271.5968503937007,\n",
       " 277.91015624999994,\n",
       " 284.39147286821697,\n",
       " 291.3099999999999,\n",
       " 298.1458015267175,\n",
       " 305.09318181818173,\n",
       " 312.1383458646616,\n",
       " 319.25373134328345,\n",
       " 326.5222222222221,\n",
       " 334.0110294117646,\n",
       " 341.7357664233576,\n",
       " 349.61666666666656,\n",
       " 357.7525179856114,\n",
       " 366.0749999999999,\n",
       " 374.66099290780136,\n",
       " 383.60422535211256,\n",
       " 392.93496503496493,\n",
       " 402.68124999999986,\n",
       " 412.8724137931033,\n",
       " 423.3219178082191,\n",
       " 434.04693877551006,\n",
       " 445.00540540540527,\n",
       " 456.4724832214764,\n",
       " 468.50733333333324,\n",
       " 481.1430463576158,\n",
       " 494.20657894736826,\n",
       " 507.74901960784297,\n",
       " 521.7116883116882,\n",
       " 536.3135483870966,\n",
       " 551.4442307692307,\n",
       " 567.2127388535031,\n",
       " 583.7867088607594,\n",
       " 601.0144654088049,\n",
       " 618.8549999999999,\n",
       " 637.5614906832296,\n",
       " 656.9703703703702,\n",
       " 677.2319018404907,\n",
       " 698.3597560975608,\n",
       " 720.350909090909,\n",
       " 742.9548192771083,\n",
       " 766.2035928143711,\n",
       " 789.7517857142855,\n",
       " 813.9420118343193,\n",
       " 838.8929411764703,\n",
       " 864.5596491228068,\n",
       " 891.2465116279068,\n",
       " 918.750289017341,\n",
       " 946.810344827586,\n",
       " 975.8165714285713,\n",
       " 1005.5448863636361,\n",
       " 1035.9593220338982,\n",
       " 1067.1426966292133,\n",
       " 1098.8374301675976,\n",
       " 1131.496111111111,\n",
       " 1164.5939226519336,\n",
       " 1198.3653846153843,\n",
       " 1232.674863387978,\n",
       " 1267.4559782608694,\n",
       " 1302.932972972973,\n",
       " 1338.7682795698922,\n",
       " 1374.8502673796788,\n",
       " 1411.1952127659572,\n",
       " 1448.0291005291003,\n",
       " 1485.3684210526312,\n",
       " 1523.205235602094,\n",
       " 1561.3822916666663,\n",
       " 1599.9683937823831,\n",
       " 1638.7654639175255,\n",
       " 1677.7523076923073,\n",
       " 1716.9540816326528,\n",
       " 1756.3837563451773,\n",
       " 1796.0691919191916,\n",
       " 1836.6658291457284,\n",
       " 1876.858,\n",
       " 1917.4895522388056,\n",
       " 1958.0623762376235,\n",
       " 1998.7315270935956,\n",
       " 2039.8656862745095,\n",
       " 2080.5985365853658,\n",
       " 2121.396601941747,\n",
       " 2162.303381642512,\n",
       " 2203.1105769230767,\n",
       " 2243.745454545454,\n",
       " 2284.336666666666,\n",
       " 2324.893838862559,\n",
       " 2365.4971698113204,\n",
       " 2406.2164319248823,\n",
       " 2446.983177570093,\n",
       " 2487.690232558139,\n",
       " 2528.2791666666662,\n",
       " 2568.92995391705,\n",
       " 2609.4834862385314,\n",
       " 2649.8999999999996,\n",
       " 2690.5640909090903,\n",
       " 2731.4475113122166,\n",
       " 2772.4418918918914,\n",
       " 2813.37130044843,\n",
       " 2854.316071428571,\n",
       " 2895.191111111111,\n",
       " 2936.2323008849553,\n",
       " 2977.6290748898673,\n",
       " 3019.0850877192975,\n",
       " 3060.466375545851,\n",
       " 3101.7495652173907,\n",
       " 3142.8199134199126,\n",
       " 3183.663362068965,\n",
       " 3224.3347639484973,\n",
       " 3265.706837606837,\n",
       " 3307.1238297872333,\n",
       " 3348.988983050847,\n",
       " 3390.8413502109697,\n",
       " 3432.6777310924367,\n",
       " 3474.435983263598,\n",
       " 3516.397916666666,\n",
       " 3558.374273858921,\n",
       " 3600.3842975206608,\n",
       " 3642.2415637860076,\n",
       " 3683.9258196721303,\n",
       " 3726.357142857142,\n",
       " 3768.80894308943,\n",
       " 3811.3303643724694,\n",
       " 3853.9903225806447,\n",
       " 3896.8574297188743,\n",
       " 3939.6255999999994,\n",
       " 3982.2717131474096,\n",
       " 4025.0452380952374,\n",
       " 4067.609486166007,\n",
       " 4109.992125984251,\n",
       " 4152.3819607843125,\n",
       " 4195.107031249999,\n",
       " 4237.767704280154,\n",
       " 4280.322093023255,\n",
       " 4322.86023166023,\n",
       " 4365.353076923076,\n",
       " 4407.922605363983,\n",
       " 4450.520229007632,\n",
       " 4493.153231939162,\n",
       " 4535.760606060605,\n",
       " 4578.290943396225,\n",
       " 4620.813157894735,\n",
       " 4663.363295880148,\n",
       " 4706.079477611938,\n",
       " 4748.903717472118,\n",
       " 4791.766666666665,\n",
       " 4834.598154981549,\n",
       " 4877.342279411763,\n",
       " 4920.094505494504,\n",
       " 4962.851824817517,\n",
       " 5005.710909090908,\n",
       " 5048.645652173911,\n",
       " 5091.556317689529,\n",
       " 5134.638848920862,\n",
       " 5177.707885304658,\n",
       " 5220.85357142857,\n",
       " 5264.013523131671,\n",
       " 5307.260638297871,\n",
       " 5350.556890459362,\n",
       " 5393.907394366195,\n",
       " 5437.44842105263,\n",
       " 5480.99755244755,\n",
       " 5524.602787456444,\n",
       " 5568.224652777776,\n",
       " 5611.809688581313,\n",
       " 5655.521034482757,\n",
       " 5699.574226804122,\n",
       " 5743.647602739724,\n",
       " 5787.659385665527,\n",
       " 5831.828231292516,\n",
       " 5876.12847457627,\n",
       " 5920.6344594594575,\n",
       " 5965.382828282826,\n",
       " 6010.473154362415,\n",
       " 6055.761204013376,\n",
       " 6100.747333333332,\n",
       " 6145.434551495015,\n",
       " 6189.825827814568,\n",
       " 6235.789768976896,\n",
       " 6281.451315789473,\n",
       " 6326.813442622949,\n",
       " 6371.879084967319,\n",
       " 6418.733224755699,\n",
       " 6466.371753246752,\n",
       " 6513.701941747571,\n",
       " 6560.726774193547,\n",
       " 6608.737299035369,\n",
       " 6656.830448717947,\n",
       " 6704.61629392971,\n",
       " 6752.530254777068,\n",
       " 6800.592380952379,\n",
       " 6848.958860759492,\n",
       " 6897.723028391166,\n",
       " 6947.108176100628,\n",
       " 6997.193730407522,\n",
       " 7047.861249999998,\n",
       " 7099.008411214952,\n",
       " 7150.552795031053,\n",
       " 7202.548916408667,\n",
       " 7254.916049382714,\n",
       " 7308.050153846152,\n",
       " 7361.953987730059,\n",
       " 7416.570336391435,\n",
       " 7471.637195121949,\n",
       " 7527.142249240119,\n",
       " 7583.1593939393915,\n",
       " 7639.640181268881,\n",
       " 7697.076506024095,\n",
       " 7755.207207207205,\n",
       " 7813.848802395208,\n",
       " 7872.834925373132,\n",
       " 7932.16101190476,\n",
       " 7992.373887240354,\n",
       " 8053.058284023667,\n",
       " 8113.38466076696,\n",
       " 8174.492647058822,\n",
       " 8237.379178885629,\n",
       " 8300.445029239763,\n",
       " 8363.887172011659,\n",
       " 8427.795639534881,\n",
       " 8492.502318840578,\n",
       " 8556.834971098264,\n",
       " 8622.298559077808,\n",
       " 8689.95804597701,\n",
       " 8758.319484240687,\n",
       " 8827.033428571427,\n",
       " 8896.826495726493,\n",
       " 8967.60852272727,\n",
       " 9039.70736543909,\n",
       " 9113.067796610167,\n",
       " 9187.265915492955,\n",
       " 9261.926123595504,\n",
       " 9336.645098039213,\n",
       " 9412.62849162011,\n",
       " 9489.804735376041,\n",
       " 9567.881944444442,\n",
       " 9647.31468144044,\n",
       " 9727.900276243092,\n",
       " 9808.945454545452,\n",
       " 9890.329395604393,\n",
       " 9972.781095890408,\n",
       " 10056.05245901639,\n",
       " 10140.149591280651,\n",
       " 10225.039945652172,\n",
       " 10310.699457994577,\n",
       " 10396.731621621619,\n",
       " 10482.906469002692,\n",
       " 10569.576075268815,\n",
       " 10656.836729222518,\n",
       " 10744.824331550799,\n",
       " 10833.449866666664,\n",
       " 10922.561702127658,\n",
       " 11011.87188328912,\n",
       " 11101.235449735446,\n",
       " 11190.889973614772,\n",
       " 11280.884210526314,\n",
       " 11372.006036745403,\n",
       " 11463.439790575914,\n",
       " 11555.279895561354,\n",
       " 11647.170312499997,\n",
       " 11739.078961038958,\n",
       " 11831.244300518132,\n",
       " 11923.746511627904,\n",
       " 12016.769329896904,\n",
       " 12110.080719794341,\n",
       " 12203.97846153846,\n",
       " 12297.837084398974,\n",
       " 12391.582908163262,\n",
       " 12485.339185750632,\n",
       " 12579.298477157357,\n",
       " 12673.514430379744,\n",
       " 12768.097979797976,\n",
       " 12862.928463476068,\n",
       " 12957.644221105524,\n",
       " 13052.216791979947,\n",
       " 13146.849499999997,\n",
       " 13241.634164588526,\n",
       " 13336.382338308455,\n",
       " 13431.101240694785,\n",
       " 13525.784653465345,\n",
       " 13620.285185185183,\n",
       " 13714.528817733988,\n",
       " 13808.597542997539,\n",
       " 13902.58921568627,\n",
       " 13996.535696821513,\n",
       " 14090.316341463411,\n",
       " 14183.983211678828,\n",
       " 14277.40194174757,\n",
       " 14370.5215496368,\n",
       " 14463.462801932363,\n",
       " 14556.177590361443,\n",
       " 14648.804326923075,\n",
       " 14741.38705035971,\n",
       " 14833.735645933011,\n",
       " 14925.826252983288,\n",
       " 15017.640476190472,\n",
       " 15109.310926365793,\n",
       " 15200.878436018953,\n",
       " 15292.320803782502,\n",
       " 15383.70660377358,\n",
       " 15474.942823529409,\n",
       " 15565.896478873234,\n",
       " 15656.590163934421,\n",
       " 15747.098364485977,\n",
       " 15837.49347319347,\n",
       " 15927.796744186044,\n",
       " 16018.01600928074,\n",
       " 16108.06944444444,\n",
       " 16197.907390300226,\n",
       " 16287.469585253451,\n",
       " 16376.840919540226,\n",
       " 16466.052522935777,\n",
       " 16555.15675057208,\n",
       " 16644.137442922372,\n",
       " 16732.712756264234,\n",
       " 16821.15818181818,\n",
       " 16909.503628117913,\n",
       " 16997.635972850676,\n",
       " 17085.58848758465,\n",
       " 17173.407207207205,\n",
       " 17261.05842696629,\n",
       " 17348.522421524664,\n",
       " 17435.75973154362,\n",
       " 17522.7640625,\n",
       " 17609.55968819599,\n",
       " 17696.21111111111,\n",
       " 17782.757427937915,\n",
       " 17869.137831858403,\n",
       " 17955.362251655628,\n",
       " 18041.372687224666,\n",
       " 18127.131208791205,\n",
       " 18212.68092105263,\n",
       " 18298.04857768052,\n",
       " 18383.25676855895,\n",
       " 18468.31176470588,\n",
       " 18553.161956521733,\n",
       " 18637.759002169194,\n",
       " 18722.085281385276,\n",
       " 18806.19481641468,\n",
       " 18890.138146551722,\n",
       " 18973.958924731178,\n",
       " 19057.61244635193,\n",
       " 19141.06124197002,\n",
       " 19224.26474358974,\n",
       " 19307.204477611936,\n",
       " 19389.921914893614,\n",
       " 19472.430573248403,\n",
       " 19554.773305084742,\n",
       " 19636.899577167016,\n",
       " 19718.789240506325,\n",
       " 19800.421473684208,\n",
       " 19881.771008403357,\n",
       " 19962.859538784065,\n",
       " 20043.683263598323,\n",
       " 20124.300626304797,\n",
       " 20204.899791666663,\n",
       " 20285.264241164237,\n",
       " 20365.36701244813,\n",
       " 20445.171014492753,\n",
       " 20524.72582644628,\n",
       " 20604.026391752574,\n",
       " 20683.096913580244,\n",
       " 20761.910677618067,\n",
       " 20840.470286885244,\n",
       " 20918.787116564414,\n",
       " 20996.816938775508,\n",
       " 21074.597556008142,\n",
       " 21152.139430894305,\n",
       " 21229.449492900607,\n",
       " 21306.499392712547,\n",
       " 21383.27434343434,\n",
       " 21459.773991935483,\n",
       " 21535.96579476861,\n",
       " 21611.90461847389,\n",
       " 21687.559519038074,\n",
       " 21762.931599999996,\n",
       " 21838.04690618762,\n",
       " 21912.899203187248,\n",
       " 21987.47276341948,\n",
       " 22061.774206349204,\n",
       " 22135.826732673264,\n",
       " 22209.60335968379,\n",
       " 22283.117751479283,\n",
       " 22356.34271653543,\n",
       " 22429.294106090372,\n",
       " 22502.022941176467,\n",
       " 22574.483561643832,\n",
       " 22646.666015624996,\n",
       " 22718.576998050678,\n",
       " 22790.22509727626,\n",
       " 22861.594951456307,\n",
       " 22932.68817829457,\n",
       " 23003.56479690522,\n",
       " 23074.17992277992,\n",
       " 23144.53988439306,\n",
       " 23214.65442307692,\n",
       " 23284.521305182338,\n",
       " 23354.12049808429,\n",
       " 23423.45353728489,\n",
       " 23492.61202290076,\n",
       " 23561.525333333328,\n",
       " 23630.20095057034,\n",
       " 23698.650284629977,\n",
       " 23766.885795454542,\n",
       " 23834.863327032133,\n",
       " 23902.584339622637,\n",
       " 23970.18210922787,\n",
       " 24037.550563909772,\n",
       " 24104.691744840522,\n",
       " 24171.634269662918,\n",
       " 24238.402616822426,\n",
       " 24304.921828358205,\n",
       " 24371.19329608938,\n",
       " 24437.424535315982,\n",
       " 24503.45751391465,\n",
       " 24569.30592592592,\n",
       " 24635.026432532344,\n",
       " 24700.60977859778,\n",
       " 24765.95156537753,\n",
       " 24831.053124999995,\n",
       " 24896.253027522933,\n",
       " 24961.274908424904,\n",
       " 25026.182815356486,\n",
       " 25091.025364963498,\n",
       " 25155.858105646625,\n",
       " 25220.455090909087,\n",
       " 25284.817604355714,\n",
       " 25349.607065217388,\n",
       " 25414.364195298367,\n",
       " 25479.14729241877,\n",
       " 25544.035495495493,\n",
       " 25609.09244604316,\n",
       " 25673.915798922797,\n",
       " 25738.506810035837,\n",
       " 25804.083005366723,\n",
       " 25869.798392857138,\n",
       " 25935.66524064171,\n",
       " 26001.80213523131,\n",
       " 26068.285435168735,\n",
       " 26134.5329787234,\n",
       " 26200.54601769911,\n",
       " 26267.97084805653,\n",
       " 26335.552557319217,\n",
       " 26403.362676056335,\n",
       " 26471.510720562383,\n",
       " 26540.21368421052,\n",
       " 26608.676007005248,\n",
       " 26676.89895104895,\n",
       " 26746.810296684114,\n",
       " 26816.87630662021,\n",
       " 26887.313217391304,\n",
       " 26958.071354166663,\n",
       " 27029.49029462738,\n",
       " 27100.66211072664,\n",
       " 27171.58808290155,\n",
       " 27244.65396551724,\n",
       " 27318.106540447498,\n",
       " 27391.94192439862,\n",
       " 27466.302915951965,\n",
       " 27541.578767123283,\n",
       " 27616.59726495726,\n",
       " 27691.359726962455,\n",
       " 27768.66473594548,\n",
       " 27846.48945578231,\n",
       " 27924.95772495755,\n",
       " 28004.09610169491,\n",
       " 28084.019289340096,\n",
       " 28163.672466216212,\n",
       " 28243.056998313656,\n",
       " 28325.04023569023,\n",
       " 28407.383697478985,\n",
       " 28489.98053691275,\n",
       " 28572.896314907866,\n",
       " 28656.22943143812,\n",
       " 28739.28430717863,\n",
       " 28822.06233333333,\n",
       " 28907.605823627284,\n",
       " 28993.57425249169,\n",
       " 29079.785240464338,\n",
       " 29166.45165562913,\n",
       " 29253.64975206611,\n",
       " 29340.560066006594,\n",
       " 29427.18401976935,\n",
       " 29515.341447368417,\n",
       " 29603.571592775035,\n",
       " 29691.90819672131,\n",
       " 29780.479214402614,\n",
       " 29869.336111111108,\n",
       " 29957.903099510597,\n",
       " 30046.1815960912,\n",
       " 30135.569430894306,\n",
       " 30224.962175324672,\n",
       " 30314.52998379254,\n",
       " 30404.214401294495,\n",
       " 30494.090953150237,\n",
       " 30583.67758064516,\n",
       " 30672.975684380024,\n",
       " 30763.103376205785,\n",
       " 30853.143820224715,\n",
       " 30943.09823717948,\n",
       " 31033.112479999993,\n",
       " 31123.158945686893,\n",
       " 31212.918181818175,\n",
       " 31302.39156050955,\n",
       " 31392.375198728132,\n",
       " 31482.227619047615,\n",
       " 31571.953565768617,\n",
       " 31661.628322784807,\n",
       " 31751.26097946287,\n",
       " 31840.61088328075,\n",
       " 31929.679370078735,\n",
       " 32019.026415094333,\n",
       " 32108.195604395598,\n",
       " 32197.22742946708,\n",
       " 32286.12253521126,\n",
       " 32374.906874999993,\n",
       " 32463.414196567854,\n",
       " 32551.645794392516,\n",
       " 32640.000155520993,\n",
       " 32728.172515527946,\n",
       " 32816.18046511627,\n",
       " 32904.04195046439,\n",
       " 32991.85038639876,\n",
       " 33079.38780864197,\n",
       " 33166.65546995377,\n",
       " 33254.012923076916,\n",
       " 33341.16820276497,\n",
       " 33428.140797546,\n",
       " 33514.97718223583,\n",
       " 33601.70321100917,\n",
       " 33688.16442748091,\n",
       " 33774.36204268292,\n",
       " 33860.59619482495,\n",
       " 33946.628419452885,\n",
       " 34032.474355083454,\n",
       " 34118.06015151514,\n",
       " 34203.65370650529,\n",
       " 34288.98867069486,\n",
       " 34374.066214177976,\n",
       " 34459.172740963855,\n",
       " 34544.02330827067,\n",
       " 34628.77912912912,\n",
       " 34713.39850074962,\n",
       " 34797.90434131736,\n",
       " 34882.15754857996,\n",
       " 34966.15925373133,\n",
       " 35050.25722801788,\n",
       " 35134.169494047615,\n",
       " 35217.8323922734,\n",
       " 35301.33041543026,\n",
       " 35384.68844444444,\n",
       " 35467.799852070995,\n",
       " 35550.66573116691,\n",
       " 35633.60604719764,\n",
       " 35716.37393225331,\n",
       " 35799.025294117644,\n",
       " 35881.599412628486,\n",
       " 35964.13826979471,\n",
       " 36046.435431918,\n",
       " 36128.49195906432,\n",
       " 36210.30890510948,\n",
       " 36292.456851311945,\n",
       " 36374.48573508005,\n",
       " 36456.44985465115,\n",
       " 36538.38330914368,\n",
       " 36620.07927536232,\n",
       " 36701.538784370474,\n",
       " 36783.21502890173,\n",
       " 36864.76118326118,\n",
       " 36946.189913544666,\n",
       " 37027.54633093524,\n",
       " 37108.85962643677,\n",
       " 37189.939598278324,\n",
       " 37270.78724928366,\n",
       " 37351.96552217453,\n",
       " 37433.03957142856,\n",
       " 37514.072039942934,\n",
       " 37595.189173789164,\n",
       " 37676.07553342816,\n",
       " 37756.73210227272,\n",
       " 37837.159858156025,\n",
       " 37917.3597733711,\n",
       " 37997.33281471003,\n",
       " 38079.28629943502,\n",
       " 38161.86389280676,\n",
       " 38245.48507042253,\n",
       " 38328.87102672292,\n",
       " 38412.02275280898,\n",
       " 38494.941234221595,\n",
       " 38582.66260504201,\n",
       " 38671.14055944055,\n",
       " 38761.720670391056,\n",
       " 38853.86066945606,\n",
       " 38945.74401114206,\n",
       " 39037.371766342134,\n",
       " 39135.13027777777,\n",
       " 39233.77947295422,\n",
       " 39333.84210526315,\n",
       " 39436.123651452275,\n",
       " 39540.92651933701,\n",
       " 39645.44027586206,\n",
       " 39749.66611570247,\n",
       " 39853.6052269601]"
      ]
     },
     "execution_count": 143,
     "metadata": {},
     "output_type": "execute_result"
    }
   ],
   "source": [
    "ewma\n"
   ]
  },
  {
   "cell_type": "code",
   "execution_count": 145,
   "metadata": {},
   "outputs": [
    {
     "data": {
      "text/plain": [
       "1710"
      ]
     },
     "execution_count": 145,
     "metadata": {},
     "output_type": "execute_result"
    }
   ],
   "source": [
    "9*10*19"
   ]
  },
  {
   "cell_type": "code",
   "execution_count": 146,
   "metadata": {},
   "outputs": [
    {
     "data": {
      "text/plain": [
       "285.0"
      ]
     },
     "execution_count": 146,
     "metadata": {},
     "output_type": "execute_result"
    }
   ],
   "source": [
    "1710/6"
   ]
  },
  {
   "cell_type": "code",
   "execution_count": 147,
   "metadata": {},
   "outputs": [
    {
     "data": {
      "text/plain": [
       "16.881943016134134"
      ]
     },
     "execution_count": 147,
     "metadata": {},
     "output_type": "execute_result"
    }
   ],
   "source": [
    "285**0.5"
   ]
  },
  {
   "cell_type": "code",
   "execution_count": null,
   "metadata": {},
   "outputs": [],
   "source": []
  }
 ],
 "metadata": {
  "kernelspec": {
   "display_name": "Python 3",
   "language": "python",
   "name": "python3"
  },
  "language_info": {
   "codemirror_mode": {
    "name": "ipython",
    "version": 3
   },
   "file_extension": ".py",
   "mimetype": "text/x-python",
   "name": "python",
   "nbconvert_exporter": "python",
   "pygments_lexer": "ipython3",
   "version": "3.8.3"
  }
 },
 "nbformat": 4,
 "nbformat_minor": 4
}
