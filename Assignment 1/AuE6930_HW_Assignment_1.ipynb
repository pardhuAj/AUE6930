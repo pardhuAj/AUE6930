{
 "cells": [
  {
   "cell_type": "markdown",
   "metadata": {
    "id": "ud3RPxSvNhT0"
   },
   "source": [
    "# Mini Project 1\n",
    "Welcome to your first assignment! Look for \"TODO\" inside the code block and complete the required exercises.\n",
    "\n"
   ]
  },
  {
   "cell_type": "markdown",
   "metadata": {
    "id": "IJVRCU7_NhT4"
   },
   "source": [
    "## Task 1: Python Basics Exercise\n",
    "The \"Learn the basics\" and \"Data science tutorial\" sections from [Online Resource](https://www.learnpython.org/en/Welcome) is a good material to learn Python. After going through the crash course and relevant materials, you should complete the following exercise of each section in this jupyter notebook.\n"
   ]
  },
  {
   "cell_type": "markdown",
   "metadata": {
    "id": "sJjcS4CNncjj"
   },
   "source": [
    "### 1.1 Print function"
   ]
  },
  {
   "cell_type": "markdown",
   "metadata": {
    "id": "5-QL2QzWqa1b"
   },
   "source": [
    "Use the `print` function to print the following sentence \"I'm a student at CU.\""
   ]
  },
  {
   "cell_type": "code",
   "execution_count": 3,
   "metadata": {
    "id": "R8Qqa3LENhT5"
   },
   "outputs": [
    {
     "name": "stdout",
     "output_type": "stream",
     "text": [
      "I'm a student at CU.\n"
     ]
    }
   ],
   "source": [
    "# TODO: print out the line\n",
    "print(\"I'm a student at CU.\")"
   ]
  },
  {
   "cell_type": "markdown",
   "metadata": {
    "id": "7v1AI7y_NhT6"
   },
   "source": [
    "### 1.2 Variables and Types"
   ]
  },
  {
   "cell_type": "markdown",
   "metadata": {
    "id": "ISrFFYNmp6CW"
   },
   "source": [
    "The target of this exercise is to create a string, an integer, and a floating point number. \n",
    "- The string variable should be named `mystring` and initialized to \"Python\".\n",
    "- The floating variable should be named `myfloat` and initialized to 5.0.\n",
    "- The integer variable should be named `myint` and initialized to 10."
   ]
  },
  {
   "cell_type": "code",
   "execution_count": 5,
   "metadata": {
    "id": "WLaqNik7NhT6"
   },
   "outputs": [
    {
     "name": "stdout",
     "output_type": "stream",
     "text": [
      "String: Python\n",
      "Float: 5.000000\n",
      "Integer: 10\n"
     ]
    }
   ],
   "source": [
    "# TODO: define your variables\n",
    "mystring='Python' # Initialization of string\n",
    "myfloat=5.0 # Initialization of float\n",
    "myint=10 # Initialization of integer\n",
    "# test code\n",
    "if mystring == \"Python\":\n",
    "    print(\"String: %s\" % mystring)\n",
    "if isinstance(myfloat, float) and myfloat == 5.0:\n",
    "    print(\"Float: %f\" % myfloat)\n",
    "if isinstance(myint, int) and myint == 10:\n",
    "    print(\"Integer: %d\" % myint)"
   ]
  },
  {
   "cell_type": "markdown",
   "metadata": {
    "id": "2yXmGV1tNhT6"
   },
   "source": [
    "### 1.3 Lists"
   ]
  },
  {
   "cell_type": "markdown",
   "metadata": {
    "id": "P2CQlc6MqjeT"
   },
   "source": [
    "In this exercise, you will need to add numbers and strings to the correct lists using the \"append\" list method. \n",
    "\n",
    "You must add the numbers 1, 2, and 3 to the \"numbers\" list and the words 'Hello' and 'World' to the strings variable.\n"
   ]
  },
  {
   "cell_type": "code",
   "execution_count": 11,
   "metadata": {
    "id": "b1rpPjEzNhT6"
   },
   "outputs": [
    {
     "name": "stdout",
     "output_type": "stream",
     "text": [
      "[1, 2, 3]\n",
      "['Hello', 'World']\n",
      "The second name on the names list is Eric\n"
     ]
    }
   ],
   "source": [
    "numbers = []\n",
    "strings = []\n",
    "names = [\"John\", \"Eric\", \"Jessica\"]\n",
    "\n",
    "# TODO: append 1, 2, and 3 to numbers respectively\n",
    "numbers.append(1) # adding 1 to list\n",
    "numbers.append(2) # adding 2 to list\n",
    "numbers.append(3) # adding 3 to list\n",
    "\n",
    "# TODO: append \"Hello\" and \"World\" to strings respectively\n",
    "strings.append('Hello') # adding Hello to list\n",
    "strings.append('World') # adding world to list\n",
    "\n",
    "# TODO: modify the following line to get the second item of names\n",
    "second_name = names[1] # selecting the index 1\n",
    "\n",
    "\n",
    "# test code\n",
    "if all(i == j for i, j in zip(numbers, [1, 2, 3])):\n",
    "    print(numbers)\n",
    "if all(i == j for i, j in zip(strings, ['Hello', 'World'])):\n",
    "    print(strings)\n",
    "if second_name == 'Eric':\n",
    "    print(\"The second name on the names list is %s\" % second_name)"
   ]
  },
  {
   "cell_type": "markdown",
   "metadata": {
    "id": "ia1O5I7gNhT7"
   },
   "source": [
    "### 1.4 Basic Operators"
   ]
  },
  {
   "cell_type": "markdown",
   "metadata": {
    "id": "CKTcqnPVr8sV"
   },
   "source": [
    "Create two lists called `x_list` and `y_list`, which contain 10 instances of the variables `x` and `y`, respectively. You are also required to create a list called `big_list`, which contains the variables `x` and `y`, 10 times each, by concatenating the two lists you have created."
   ]
  },
  {
   "cell_type": "code",
   "execution_count": 13,
   "metadata": {
    "id": "3X26vbLONhT7"
   },
   "outputs": [
    {
     "name": "stdout",
     "output_type": "stream",
     "text": [
      "x_list contains 10 objects\n",
      "y_list contains 10 objects\n",
      "big_list contains 20 objects\n",
      "Great!\n"
     ]
    }
   ],
   "source": [
    "x = object()\n",
    "y = object()\n",
    "\n",
    "# TODO: append 10 instances of x to x_list using the operator *\n",
    "x_list =10* [x] # Creating a list with 10 instances\n",
    "\n",
    "# TODO: append 10 instances of y to y_list using the operator *\n",
    "y_list =10* [y] # Creating a list with 10 instances\n",
    "\n",
    "# TODO: concatenate y_list into x_list using the operator +\n",
    "big_list =x_list+y_list # concatenating lists with 10 instances\n",
    "\n",
    "print(\"x_list contains %d objects\" % len(x_list))\n",
    "print(\"y_list contains %d objects\" % len(y_list))\n",
    "print(\"big_list contains %d objects\" % len(big_list))\n",
    "\n",
    "# test code\n",
    "if x_list.count(x) == 10 and y_list.count(y) == 10:\n",
    "    if big_list.count(x) == 10 and big_list.count(y) == 10:\n",
    "        print(\"Great!\")"
   ]
  },
  {
   "cell_type": "markdown",
   "metadata": {
    "id": "dO2LD2VGNhT7"
   },
   "source": [
    "### 1.5 String Formatting"
   ]
  },
  {
   "cell_type": "markdown",
   "metadata": {
    "id": "D-YvAGP0s7Qx"
   },
   "source": [
    "Write a format string which prints out the data using the following syntax: Hello John Doe. Your current balance is $53."
   ]
  },
  {
   "cell_type": "code",
   "execution_count": 19,
   "metadata": {
    "id": "PA0z7ckXNhT7"
   },
   "outputs": [
    {
     "name": "stdout",
     "output_type": "stream",
     "text": [
      " Hello John Doe. Your current balance is $53.\n"
     ]
    }
   ],
   "source": [
    "data = (\"John\", \"Doe\", 53.00)\n",
    "format_string = \"Hello\"\n",
    "\n",
    "# TODO: print out the data with required syntax\n",
    "print(\" %s %s %s. Your current balance is $%d.\" %(format_string, data[0] , data[1] ,data[2]))"
   ]
  },
  {
   "cell_type": "markdown",
   "metadata": {
    "id": "bke9FyQcNhT7"
   },
   "source": [
    "### 1.6 Basic String Operations"
   ]
  },
  {
   "cell_type": "markdown",
   "metadata": {
    "id": "ywJsKFcctg0K"
   },
   "source": [
    "Try to fix the code to print out the correct information by using **string indexing / processing** techniques."
   ]
  },
  {
   "cell_type": "code",
   "execution_count": 21,
   "metadata": {
    "id": "iftoUTAYNhT7"
   },
   "outputs": [
    {
     "name": "stdout",
     "output_type": "stream",
     "text": [
      "The length of s is 38\n",
      "The index of letter a is 13\n",
      "The occurrence of letter e is 4 times\n",
      "The first five characters of s are Hey t\n",
      "The last five characters of s are g be?\n",
      "The  characters of s with even index are Hytee htsol hssrn e\n",
      "?eb gnirts siht dluohs tahw !ereht yeH\n",
      "HEY THERE! WHAT SHOULD THIS STRING BE?\n",
      "hey there! what should this string be?\n",
      "True\n",
      "True\n",
      "['Hey', 'there!', 'what', 'should', 'this', 'string', 'be?']\n"
     ]
    }
   ],
   "source": [
    "s = \"Hey there! what should this string be?\"\n",
    "\n",
    "# TODO: print out the length of s\n",
    "print(\"The length of s is %d\" % len(s))\n",
    "\n",
    "# TODO: print out the index of the letter a\n",
    "print(\"The index of letter a is %d\" % s.index('a'))\n",
    "\n",
    "# TODO: print out how many times that the letter e occurs in the string\n",
    "print(\"The occurrence of letter e is %d times\"  % s.count('e'))\n",
    "\n",
    "# TODO: print out the first five characters of s\n",
    "print('The first five characters of s are %s' % s[0:5])\n",
    "\n",
    "# TODO: print out the last five characters of s\n",
    "print('The last five characters of s are %s' % s[-5:])\n",
    "\n",
    "# TODO: print out the characters with even index\n",
    "print('The  characters of s with even index are %s' % s[::2])\n",
    "\n",
    "# TODO: reverse s and print it out\n",
    "print(s[::-1])\n",
    "\n",
    "# TODO: convert everything to uppercase and print it out\n",
    "print(s.upper())\n",
    "\n",
    "# TODO: convert everything to lowercase and print it out\n",
    "print(s.lower())\n",
    "\n",
    "# TODO: check if the string starts with \"Hey\"\n",
    "print(s.startswith('Hey'))\n",
    "\n",
    "# TODO: check if the string ends with \"be?\"\n",
    "print(s.endswith('be?'))\n",
    "\n",
    "# TODO: split the string into several separate strings, each containing only a word\n",
    "print(s.split())"
   ]
  },
  {
   "cell_type": "markdown",
   "metadata": {
    "id": "o-pdRoNcxgtO"
   },
   "source": [
    "### 1.7 Conditions"
   ]
  },
  {
   "cell_type": "markdown",
   "metadata": {
    "id": "EkbZ1X_OxoOq"
   },
   "source": [
    "Change the variables, so that each if statement resolves as True."
   ]
  },
  {
   "cell_type": "code",
   "execution_count": 24,
   "metadata": {
    "id": "s6tUgSW0xxDF"
   },
   "outputs": [
    {
     "name": "stdout",
     "output_type": "stream",
     "text": [
      "1\n",
      "2\n",
      "3\n",
      "4\n",
      "5\n",
      "6\n"
     ]
    }
   ],
   "source": [
    "# TODO: change this code\n",
    "number = 12\n",
    "second_number = 10\n",
    "first_array = ['a', 'b', 'c']\n",
    "second_array = [1, 2, 3]\n",
    "\n",
    "if number < 15:\n",
    "    print(\"1\")\n",
    "\n",
    "if first_array:\n",
    "    print(\"2\")\n",
    "\n",
    "if len(second_array) <= 4:\n",
    "    print(\"3\")\n",
    "\n",
    "if len(first_array) + len(second_array) == 6:\n",
    "    print(\"4\")\n",
    "\n",
    "if first_array and first_array[0] == 'a':\n",
    "    print(\"5\")\n",
    "\n",
    "if not second_number == 8:\n",
    "    print(\"6\")"
   ]
  },
  {
   "cell_type": "markdown",
   "metadata": {
    "id": "vLVr-ZiANhT7"
   },
   "source": [
    "### 1.8 Loops"
   ]
  },
  {
   "cell_type": "markdown",
   "metadata": {
    "id": "w9BQOn4kyLjW"
   },
   "source": [
    "Loop through and print out all even numbers from the numbers list in the same order they are received. \n",
    "\n",
    "Don't print any numbers that are **larger than** 500 in the sequence."
   ]
  },
  {
   "cell_type": "code",
   "execution_count": 31,
   "metadata": {
    "id": "qYWR1GkQNhT8"
   },
   "outputs": [
    {
     "name": "stdout",
     "output_type": "stream",
     "text": [
      "Great\n"
     ]
    }
   ],
   "source": [
    "numbers = [\n",
    "    951, 402, 984, 651, 360, 69, 408, 319, 601, 485, 980, 507, 725, 547, 544,\n",
    "    615, 83, 165, 141, 501, 263, 617, 865, 575, 219, 390, 984, 592, 236, 105,\n",
    "    942, 941, 386, 462, 47, 418, 907, 344, 236, 375, 823, 566, 597, 978, 328, \n",
    "    615, 953, 345, 399, 162, 758, 219, 918, 237, 412, 566, 826, 248, 866, 950, \n",
    "    626, 949, 687, 217, 815, 67, 104, 58, 512, 24, 892, 894, 767, 553, 81, 379, \n",
    "    843, 831, 445, 742, 717, 958, 609, 842, 451, 688, 753, 854, 685, 93, 857, \n",
    "    440, 380, 126, 721, 328, 753, 470, 743, 527\n",
    "]\n",
    "\n",
    "even_numbers = [] # initializing an empty list to select even numbers less than 500\n",
    "# TODO: pick even numbers and save them to even_numbers\n",
    "for i in range(len(numbers)):\n",
    "    if numbers[i] % 2 == 0 and numbers[i] <=500:\n",
    "        even_numbers.append(numbers[i])   \n",
    "# test code\n",
    "result = [402, 360, 408, 390, 236, 386, 462, 418, 344, 236, 328, 162, 412, 248, \n",
    "          104, 58, 24, 440, 380, 126, 328, 470]\n",
    "if all(i == j for i, j in zip(even_numbers, result)):\n",
    "    print('Great')"
   ]
  },
  {
   "cell_type": "markdown",
   "metadata": {
    "id": "oguffFZ6NhT8"
   },
   "source": [
    "### 1.9 Functions"
   ]
  },
  {
   "cell_type": "markdown",
   "metadata": {
    "id": "ULbTxpm2yz_9"
   },
   "source": [
    "Add your own codes to the existing function so that you can create a fully functional program.\n",
    "\n",
    "- Modify `list_benefits()` to return the following list of strings: \"More organized code\", \"More readable code\", \"Easier code reuse\", \"Allowing programmers to share and connect code together\"\n",
    "\n",
    "- Modify `build_sentence(info)` to return a sentence starting with the given argument and ending with the string \" is a benefit of functions!\"\n",
    "\n",
    "- Run and see all the functions work together!"
   ]
  },
  {
   "cell_type": "code",
   "execution_count": 41,
   "metadata": {
    "id": "mPAQU1fdNhT8"
   },
   "outputs": [
    {
     "name": "stdout",
     "output_type": "stream",
     "text": [
      "More organized code is a benefit of functions\n",
      "More readable code is a benefit of functions\n",
      "Easier code reuse is a benefit of functions\n",
      "Allowing programmers to share and connect code together is a benefit of functions\n"
     ]
    }
   ],
   "source": [
    "# TODO: modify this function\n",
    "def list_benefits():\n",
    "    return [ \"More organized code\", \"More readable code\", \"Easier code reuse\", \"Allowing programmers to share and connect code together\"]\n",
    "\n",
    "# TODO: modify this function\n",
    "def build_sentence(benefit):\n",
    "    print(f\"{benefit} is a benefit of functions\")\n",
    "\n",
    "def name_the_benefits_of_functions():\n",
    "    # TODO: call the modified function to create a list of benefits\n",
    "    list_of_benefits=list_benefits() # calling a function \n",
    "    \n",
    "    for benefit in list_of_benefits:\n",
    "        build_sentence(benefit)\n",
    "\n",
    "# test code\n",
    "name_the_benefits_of_functions()"
   ]
  },
  {
   "cell_type": "markdown",
   "metadata": {
    "id": "QgRV1kDDNhT8"
   },
   "source": [
    "### 1.10 Classes and Objects"
   ]
  },
  {
   "cell_type": "markdown",
   "metadata": {
    "id": "DfXHPIwuz9X2"
   },
   "source": [
    "We have a class defined for vehicles. Create two new vehicles called `car1` and `car2`. Set `car1` to be a red convertible worth \\$60,000.00 with a name of Fer, and `car2` to be a blue van named Jump worth \\$10,000.00."
   ]
  },
  {
   "cell_type": "code",
   "execution_count": 47,
   "metadata": {
    "id": "s6jjGTzeNhT8"
   },
   "outputs": [
    {
     "name": "stdout",
     "output_type": "stream",
     "text": [
      "Fer is a red convertible worth $60000.00.\n",
      "Jump is a blue van worth $10000.00.\n"
     ]
    }
   ],
   "source": [
    "# define the Vehicle class\n",
    "class Vehicle:\n",
    "    def __init__(self, name, kind, color, value):\n",
    "        self.name = name\n",
    "        self.kind = kind\n",
    "        self.color = color\n",
    "        self.value = value\n",
    "\n",
    "    def description(self):\n",
    "        desc_str = \"%s is a %s %s worth $%.2f.\" % (self.name, self.color, self.kind, self.value)\n",
    "        return desc_str\n",
    "\n",
    "\n",
    "# TODO: create two instances of Vehicle\n",
    "car1=Vehicle('Fer','convertible', 'red',60000.00) # creation of car instance from vehicle class\n",
    "car2=Vehicle('Jump','van','blue',10000.00) # creation of car instance from vehicle class\n",
    "# test code\n",
    "print(car1.description())\n",
    "print(car2.description())"
   ]
  },
  {
   "cell_type": "markdown",
   "metadata": {
    "id": "b4s5hZ2nNhT8"
   },
   "source": [
    "### 1.11 Dictionaries"
   ]
  },
  {
   "cell_type": "markdown",
   "metadata": {
    "id": "lm4R2zUw0zkB"
   },
   "source": [
    "Add \"Jake\" to the `phonebook` with the phone number 938273443, and remove Jill from the `phonebook`."
   ]
  },
  {
   "cell_type": "code",
   "execution_count": 196,
   "metadata": {
    "id": "l4hj8nm0NhT8"
   },
   "outputs": [
    {
     "name": "stdout",
     "output_type": "stream",
     "text": [
      "John and 938477566\n",
      "Jack and 938377264\n",
      "Jake and 938273443\n"
     ]
    }
   ],
   "source": [
    "phonebook = {\n",
    "    \"John\" : 938477566,\n",
    "    \"Jack\" : 938377264,\n",
    "    \"Jill\" : 947662781\n",
    "}\n",
    "\n",
    "# TODO: add the given item\n",
    "phonebook[\"Jake\"]=938273443 # adding an item to dictionary\n",
    "\n",
    "# TODO: remove the specific item\n",
    "# phonebook.pop(\"Jill\")\n",
    "del phonebook['Jill'] # removing an item from dictionary\n",
    "# TODO: loop through the modifed dict and print out each key-value pair\n",
    "for key, value in phonebook.items():\n",
    "    print(f'{key} and {value}')"
   ]
  },
  {
   "cell_type": "markdown",
   "metadata": {
    "id": "7FRBQiu0NhT9"
   },
   "source": [
    "### 1.12 Modules and Packages"
   ]
  },
  {
   "cell_type": "markdown",
   "metadata": {
    "id": "yb8e6ICK15KM"
   },
   "source": [
    "Find out all functions in the `re` module, but only print out functions starting with `find` in reverse alphabetical order."
   ]
  },
  {
   "cell_type": "code",
   "execution_count": 198,
   "metadata": {
    "id": "u7mLYDF9NhT9"
   },
   "outputs": [
    {
     "name": "stdout",
     "output_type": "stream",
     "text": [
      "['finditer', 'findall']\n"
     ]
    }
   ],
   "source": [
    "import re\n",
    "# TODO: write your code here\n",
    "from inspect import getmembers, isfunction\n",
    "funclist=getmembers(re,isfunction) # List of functions available in re module\n",
    "new_list=[] # Initialzing an empty list \n",
    "for i in range(len(funclist)):\n",
    "    new_list.append(funclist[i][0])\n",
    "lst=[s for s in new_list if 'find' in s]\n",
    "lst.reverse()\n",
    "print(f'{lst}')\n",
    "\n",
    "#for i in range(len(lst)):\n",
    "#    print(f'The function starting with \\'find\\' in reverse alphabetical order is {lst[i][::-1]}')"
   ]
  },
  {
   "cell_type": "markdown",
   "metadata": {
    "id": "GGS7fpTsNhT9"
   },
   "source": [
    "### 1.13 Numpy"
   ]
  },
  {
   "cell_type": "markdown",
   "metadata": {
    "id": "8FjSrCEP2aqb"
   },
   "source": [
    "1. Convert the list of lengths from a list to a Numpy array. \n",
    "2. Convert all of the lenghts from inches to centimeters. Use the scalar conversion of 2.54 centimeters per inch to make your conversion. \n",
    "3. Loop through the converted lengths and print out each inch-cm pair following the format \"81.65 inches = 207.391 cm\"."
   ]
  },
  {
   "cell_type": "code",
   "execution_count": 199,
   "metadata": {
    "id": "pX-DUasvNhT9"
   },
   "outputs": [
    {
     "name": "stdout",
     "output_type": "stream",
     "text": [
      "81.65 inches = 207.391 cm \n",
      "97.52 inches = 247.701 cm \n",
      "95.25 inches = 241.935 cm \n",
      "92.98 inches = 236.169 cm \n",
      "86.18 inches = 218.897 cm \n",
      "88.45 inches = 224.663 cm \n"
     ]
    }
   ],
   "source": [
    "import numpy as np\n",
    "\n",
    "\n",
    "length_inch = [81.65, 97.52, 95.25, 92.98, 86.18, 88.45]\n",
    "\n",
    "# TODO: create a numpy array np_length_inch from length_inch\n",
    "np_length_inch=np.asarray(length_inch) # array of lengths in inches\n",
    "\n",
    "# TODO: create np_length_cm from np_length_inch\n",
    "np_length_cm=np_length_inch*2.54 # array of lengths in cm\n",
    "\n",
    "# TODO: print out np_length_cm\n",
    "for i in  range(len(np_length_inch)):\n",
    "    print(f'{np_length_inch[i]} inches = {np_length_cm[i]:.3f} cm ')"
   ]
  },
  {
   "cell_type": "markdown",
   "metadata": {
    "id": "OHRtRRAR22lL"
   },
   "source": [
    "### 1.14 Matplotlib"
   ]
  },
  {
   "cell_type": "markdown",
   "metadata": {
    "id": "wqqjSKuG253c"
   },
   "source": [
    "In this exercise, you will practice using the package of matplotlib to visualize your data in Python. Please draw the same plot like the following one.\n",
    "\n",
    "\n",
    "\n",
    "**Requirements:**\n",
    "1. Each bell-shaped curve depicts the PDF of a Gaussian distributions parameterized by $\\mu$ and $\\sigma$.\n",
    "2. The size of the figure should be 8 inches by 6 inches.\n",
    "3. Curves have the same width, which is 2 in points."
   ]
  },
  {
   "cell_type": "markdown",
   "metadata": {
    "id": "KNY7vtEAU2Jt"
   },
   "source": [
    "![image.png](data:image/png;base64,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)"
   ]
  },
  {
   "cell_type": "code",
   "execution_count": 113,
   "metadata": {
    "id": "K3snEGRN3p_m"
   },
   "outputs": [
    {
     "data": {
      "text/plain": [
       "<Figure size 576x432 with 0 Axes>"
      ]
     },
     "execution_count": 113,
     "metadata": {},
     "output_type": "execute_result"
    },
    {
     "data": {
      "image/png": "[encoded data removed]",
      "text/plain": [
       "<Figure size 432x288 with 1 Axes>"
      ]
     },
     "metadata": {
      "needs_background": "light"
     },
     "output_type": "display_data"
    },
    {
     "data": {
      "text/plain": [
       "<Figure size 576x432 with 0 Axes>"
      ]
     },
     "metadata": {},
     "output_type": "display_data"
    }
   ],
   "source": [
    "import matplotlib.pyplot as plt\n",
    "import numpy as np\n",
    "\n",
    "%matplotlib inline\n",
    "\n",
    "from matplotlib.pyplot import figure\n",
    "\n",
    "# Init\n",
    "x = np.linspace(-10, 10, 100)\n",
    "\n",
    "# TODO: write your code here\n",
    "\n",
    "def gaussian(x,mu,sd): # creating a function to calculate for different values of mu and sd\n",
    "    y=(np.exp(-0.5*((x-mu)/sd)**2))/(sd*(2*np.pi)**0.5)\n",
    "    return y\n",
    "y1=gaussian(x,0,1)\n",
    "y2=gaussian(x,3,0.5)\n",
    "y3=gaussian(x,-2,2)\n",
    "# Plots for various parameters\n",
    "\n",
    "plt.plot(x,y1 , color = 'b', label=\"$\\mu$ = 0, $\\sigma$=1\", linewidth=2)\n",
    "plt.plot(x,y2 , color = 'r', linestyle='--', label=\"$\\mu$ = 3, $\\sigma$=0.5\", linewidth=2)\n",
    "plt.plot(x,y3 , color = 'gray', linestyle='-.',label=\"$\\mu$ = -2, $\\sigma$=2\", linewidth=2)\n",
    "\n",
    "# labeling the plots\n",
    "plt.xlabel('x')\n",
    "plt.ylabel('y')\n",
    "plt.title('Gaussian distribution for various parameters')\n",
    "plt.grid()\n",
    "plt.legend(loc=\"upper right\")\n",
    "figure(figsize=(8, 6))"
   ]
  },
  {
   "cell_type": "markdown",
   "metadata": {
    "id": "vqSN29K8prrs"
   },
   "source": [
    "## Task 2: Matrix"
   ]
  },
  {
   "cell_type": "markdown",
   "metadata": {
    "id": "EDM5Ymp8NhT9"
   },
   "source": [
    "### 2.1 Matrix basics\n",
    "Given: \n",
    "$$ A = \n",
    " \\left[\n",
    " \\begin{matrix}\n",
    "   1 & 2 & 3 \\\\\n",
    "   4 & 5 & 6 \\\\\n",
    "   7 & 8 & 9\n",
    "  \\end{matrix}\n",
    "  \\right]\n",
    "$$\n",
    "\n",
    "$$\n",
    "B = \n",
    " \\left[\n",
    " \\begin{matrix}\n",
    "   1 & 2 & 3 \\\\\n",
    "   4 & 5 & 6 \\\\\n",
    "   7 & 8 & 9\n",
    "  \\end{matrix}\n",
    "  \\right]\n",
    "$$\n",
    "\n",
    "$$ C_1 = [1, 2, 3], C_2 = [4, 5, 6], C_3 = [7, 8, 9]$$\n",
    "\n",
    "1. Compute Hadamard product (element-wise product) of $A$ and $B$\n",
    "\n",
    "2. Compute dot product of $A$ and $B$\n",
    "\n",
    "3. Compute Frobenius Norm of $A$ (use loop)\n",
    "\n",
    "4. Compute the sum of all the elements of $A$ by using np.sum()\n",
    "\n",
    "5. Concatenate $C_1, C_2, C_3$ as a new matrix $C$ with shape of 3 by 3 by using np.concatenate() and np.vstack() \n",
    "\n",
    "6. Reshape $C$ into a 1 by 9 vector by using np.reshape()\n",
    "\n"
   ]
  },
  {
   "cell_type": "code",
   "execution_count": 93,
   "metadata": {
    "id": "TY2zXQo0NhT9"
   },
   "outputs": [
    {
     "name": "stdout",
     "output_type": "stream",
     "text": [
      "The element wise product of A and B is [[ 1  4  9]\n",
      " [16 25 36]\n",
      " [49 64 81]]\n",
      "The dot product of A and B is [[ 30  36  42]\n",
      " [ 66  81  96]\n",
      " [102 126 150]]\n",
      "The forbenius norm of A is 16.88\n",
      "The sum of all entries of A is 45\n",
      "(The concatenated matrix using concatenate is [[1 2 3]\n",
      " [4 5 6]\n",
      " [7 8 9]])\n",
      "(The concatenated matrix using vstack is [[1 2 3]\n",
      " [4 5 6]\n",
      " [7 8 9]])\n",
      "(The reshaped matrix is [[1 2 3 4 5 6 7 8 9]])\n"
     ]
    }
   ],
   "source": [
    "A = np.arange(1, 10, 1).reshape(3, 3)\n",
    "B = np.arange(1, 10, 1).reshape(3, 3)\n",
    "C1 = np.copy(A[0])\n",
    "C2 = np.copy(A[1])\n",
    "C3 = np.copy(A[2])\n",
    "\n",
    "# TODO: element-wise product of A and B\n",
    "print(f'The element wise product of A and B is {np.array(A*B)}')\n",
    "\n",
    "# TODO: dot product of A and B\n",
    "print(f'The dot product of A and B is {np.dot(A,B)}')\n",
    "\n",
    "# TODO: Frobenius norm of A (use loop)\n",
    "a=0\n",
    "for i in range(3):\n",
    "    for j in range(3):\n",
    "        a=a+A[i,j]**2 # calculating sum of sqaures of all elements\n",
    "print(f'The forbenius norm of A is {a**0.5:.2f}')\n",
    "\n",
    "# TODO: compute the sum of all entries of A\n",
    "print(f'The sum of all entries of A is {np.sum(A)}')\n",
    "\n",
    "# TODO: concatenate\n",
    "C6=np.concatenate(([C1], [C2], [C3]), axis=0)\n",
    "C7=np.vstack((C1, C2, C3))\n",
    "print(f'(The concatenated matrix using concatenate is {C6})')\n",
    "print(f'(The concatenated matrix using vstack is {C7})')\n",
    "# TODO: reshape\n",
    "print(f'(The reshaped matrix is {C.reshape(1,9)})')"
   ]
  },
  {
   "cell_type": "markdown",
   "metadata": {
    "id": "v00MAyLnNhT9"
   },
   "source": [
    "### 2.2 Numpy function vs. Loop\n",
    "In this section you need to generate two 100 by 100 matrix $D$ and $E$ with random integer elements within 1~9. \n",
    "\n",
    "1. Compute Hadamard product (element-wise product) of $D$ and $E$ by using numpy embeded function and print the computation time.\n",
    "\n",
    "2. Compute Hadamard product (element-wise product) of $D$ and $E$ by using for loop and print the computation time.\n",
    "\n",
    "3. Describe what do you find by checking the computational time of two methods. Which of the methods takes more time?"
   ]
  },
  {
   "cell_type": "code",
   "execution_count": 82,
   "metadata": {
    "id": "XTCIEaZINhT-"
   },
   "outputs": [
    {
     "name": "stdout",
     "output_type": "stream",
     "text": [
      "The time to calculate Element wise product using numpy is 1.007990\n",
      "The time to calculate Element wise product using loop is 1.031852\n"
     ]
    }
   ],
   "source": [
    "import time\n",
    "\n",
    "\n",
    "# TODO: generate D and E\n",
    "D=np.random.randint(10, size=(100, 100))\n",
    "E=np.random.randint(10, size=(100, 100))\n",
    "\n",
    "# TODO: element-wise product of D and E\n",
    "# Using numpy to calculate Element wise product\n",
    "\n",
    "t1=time.time()\n",
    "\n",
    "F=np.array(A*B)\n",
    "time.sleep(1)\n",
    "\n",
    "t2=time.time()\n",
    "\n",
    "t3=time.time()\n",
    "G=np.random.randint(1, size=(100, 100))\n",
    "\n",
    "for i in range(len(D)):\n",
    "    for j in range(len(D)):\n",
    "        G[i,j]=D[i,j]*E[i,j]\n",
    "\n",
    "time.sleep(1)\n",
    "\n",
    "t4=time.time()      \n",
    "\n",
    "# TODO: print out the computation time\n",
    "print(f'The time to calculate Element wise product using numpy is {t2-t1 :.6f}')\n",
    "print(f'The time to calculate Element wise product using loop is {t4-t3 :.6f}')"
   ]
  },
  {
   "cell_type": "markdown",
   "metadata": {
    "id": "hZUwJG2fHFmf"
   },
   "source": [
    "## Task 3: Probability and Statistics"
   ]
  },
  {
   "cell_type": "markdown",
   "metadata": {
    "id": "YWJ7UgE9HJX9"
   },
   "source": [
    "### 3.1 Basic\n",
    "\n",
    "1. Generate a vector of size 10 with entries drawing from a standard Gaussian distribution $\\mathcal{N}(\\mu=0, \\sigma^2=1)$.\n",
    "\n",
    "2. Generate a matrix of size 10 by 5 with entries drawing from a Gaussian distribution $\\mathcal{N}(\\mu=2, \\sigma^2=6)$."
   ]
  },
  {
   "cell_type": "code",
   "execution_count": 133,
   "metadata": {
    "id": "wzl_auD8HP_I"
   },
   "outputs": [
    {
     "name": "stdout",
     "output_type": "stream",
     "text": [
      "The vector of size 10 from standard distribution is [-0.37228374  0.22352611  0.29707666  1.14638232 -1.63440804 -0.0546842\n",
      " -1.72831909  0.87741053 -1.19553421 -1.87657681] \n",
      "\n",
      "The matrix of size 10 by 5 from standard distribution is [[ 3.9361661  -0.11403116 -0.63298893 -0.73670637 -1.79133255]\n",
      " [ 2.84316337  0.01043864 -0.76423357  2.19003013  2.91756268]\n",
      " [ 2.74739693  0.92422617  4.28979089 -0.65737292  4.37126034]\n",
      " [ 3.27562451  4.52702853  0.32364748  0.56404429  2.65201745]\n",
      " [ 2.51050564  2.11250052  3.35444221  3.12996979  4.41350396]\n",
      " [ 8.46235077 -1.44379012  3.44796366  7.1818586   5.09265436]\n",
      " [ 6.19698752  3.18450429  2.0250007   1.66174731  3.67623687]\n",
      " [ 1.73867114  1.28461302 -3.10427394 -0.44558283  4.93283799]\n",
      " [ 2.5500796  -0.06067465 -0.59614665 -1.47470336 -0.13716633]\n",
      " [ 3.40724949  4.85877488 -1.27269331  1.37590532 -1.30182761]]\n"
     ]
    }
   ],
   "source": [
    "# TODO: generate a random Gaussian vector\n",
    "import numpy as np\n",
    "from numpy import matlib\n",
    "m,s =0,1\n",
    "s = np.random.normal(m, s, 10)\n",
    "print(f\"The vector of size 10 from standard distribution is {s} \\n\" )\n",
    "# TODO: generate a random Gaussian matrix\n",
    "\n",
    "mu,sigma=2,6**0.5\n",
    "s2=sigma * np.matlib.randn(10,5) + mu\n",
    "print(f\"The matrix of size 10 by 5 from standard distribution is {s2}\")"
   ]
  },
  {
   "cell_type": "markdown",
   "metadata": {
    "id": "GHpMpta0NhT-"
   },
   "source": [
    "### 3.2 Covid-19 \n",
    "Given the covid-19 cumulative increase cases of each county in South Carolina from Jan. 22nd, 2020 to Jan. 18th, 2022, you need to calculate the total daily increase cases of SC and complete the following tasks. \n",
    "\n",
    "1. Read the dataset from the given csv file and calculate the total daily increase data.\n",
    "\n",
    "2. Generate a bar plot of the positive increase number. \n",
    "\n",
    "3. Find mean and variance of covid-19 dataset.\n",
    "\n",
    "4. Define a function `moving_avg(data, n)` for the Moving Average calculation, where n is the past number of days. Use the function to generate the results for n=7 on covid-19 dataset and plot the curve.\n",
    "\n",
    "5. Define a function `EWMA(data, alpha)` for the Exponential Weighted Moving Average calculation, where alpha is the degree of weighting decrease coefficient. Use the function to generate the results for alpha=0.9 on covid-19 dataset and plot the curve.\n",
    "\n",
    "**Requirements for the plot:** \n",
    "1. Add the title, axis labels, legend for the figures. \n",
    "2. x axis is the time (simply use integers start from 0), y axis is the positive increase number. \n",
    "3. You should have two figures: \n",
    "  * Bar plot only\n",
    "  * Bar plot, moving average curve and exponential weighted moving average curve together\n",
    "\n",
    "**Hint:** Please find detail of Moving Average and Exponential Weighted Moving Average in the link: https://en.wikipedia.org/wiki/Moving_average\n"
   ]
  },
  {
   "cell_type": "code",
   "execution_count": 201,
   "metadata": {
    "id": "kDpBlgGbNhT-"
   },
   "outputs": [
    {
     "data": {
      "image/png": "[encoded data removed]",
      "text/plain": [
       "<Figure size 1080x432 with 1 Axes>"
      ]
     },
     "metadata": {
      "needs_background": "light"
     },
     "output_type": "display_data"
    },
    {
     "name": "stdout",
     "output_type": "stream",
     "text": [
      "The mean of covid dataset is 399663.10\n",
      "The variance of covid dataset is 112156075458.22\n"
     ]
    },
    {
     "data": {
      "image/png": "[encoded data removed]",
      "text/plain": [
       "<Figure size 1080x432 with 1 Axes>"
      ]
     },
     "metadata": {
      "needs_background": "light"
     },
     "output_type": "display_data"
    }
   ],
   "source": [
    "import csv\n",
    "import numpy as np\n",
    "import matplotlib.pyplot as plt\n",
    "from matplotlib.pyplot import figure \n",
    "%matplotlib inline\n",
    "rows = []\n",
    "# TODO: read dataset\n",
    "with open('covid_confirmed_SC.csv','r') as f:\n",
    "    csvreader = csv.reader(f) # reading the file \n",
    "    header = next(csvreader) # selecting headers of the file\n",
    "    for row in csvreader:\n",
    "        rows.append(row) # creating data with out headers\n",
    "# TODO: data preprocessing\n",
    "raw_data=np.asarray(rows) # converting data from lists to array\n",
    "covid_data=np.delete(raw_data,0,1) # removing the county column\n",
    "daily_cases=np.empty((covid_data.shape[1]-1)) # daily increase in cases\n",
    "sum_daily=np.empty((covid_data.shape[1])) # total daily cases\n",
    "a=0 # initialization value\n",
    "for j in range(len(covid_data[0])):\n",
    "    for i in range(len(covid_data)):\n",
    "        a+=(int(covid_data[i,j]))\n",
    "    sum_daily[j]=a\n",
    "    a=0    \n",
    "for j in range(len(covid_data[0])-1):\n",
    "    daily_cases[j]=sum_daily[j+1]-sum_daily[j]\n",
    "# TODO: generate the positive increase number bar plot\n",
    "plt.figure(figsize=(15,6))\n",
    "plt.bar(np.arange(len(daily_cases)),daily_cases,width=2)\n",
    "plt.title('Bar chart of total Daily increase in SC counties ')\n",
    "plt.xlabel('time')\n",
    "plt.ylabel('Total Daily increase')\n",
    "plt.grid()\n",
    "plt.show() \n",
    "\n",
    "# TODO: find mean and variance \n",
    "mean=np.mean(sum_daily) # mean of daily covid data set for SC\n",
    "variance=np.var(sum_daily) # variance of daily covid data set for SC\n",
    "print(f'The mean of covid dataset is {mean:.2f}')\n",
    "print(f'The variance of covid dataset is {variance:.2f}')\n",
    "# TODO: define the function moving_avg(data, n) and find the moving average for 7 days\n",
    "def moving_avg(data,n):\n",
    "    avg=0\n",
    "    mv_avg=[]\n",
    "    for i in range(len(data)-n):\n",
    "        avg=(np.sum(data[i:i+n]))/n\n",
    "        mv_avg.append(avg)\n",
    "    return mv_avg\n",
    "mvg=moving_avg(sum_daily,7) # moving average for 7 days\n",
    "# TODO: define the function EWMA(data, alpha) and calculate the exponential weighted moving average when alpha=0.9\n",
    "def EWMA(data,alpha):\n",
    "    ewma=[data[0]]\n",
    "    avg=0\n",
    "    for i in range(1,len(data)):\n",
    "        avg=alpha*data[i]+(1-alpha)*(np.mean(data[:i]))\n",
    "        ewma.append(avg)\n",
    "    return ewma \n",
    "ewma=EWMA(sum_daily,0.9) # Exponentail weighted moving average\n",
    "# TODO: plot the daily increase cases curve for moving average results and exponential weighted moving average results\n",
    "plt.figure(figsize=(15,6))\n",
    "plt.plot(np.arange(len(mvg)),np.asarray(mvg),linewidth=2,label='Moving average',color='b')\n",
    "plt.plot(np.arange(len(ewma)),np.asarray(ewma),linewidth=2,label='EWMA',color='r')\n",
    "plt.title('Various plots such as moving average and Exponential moving average ')\n",
    "plt.xlabel('time')\n",
    "plt.ylabel('Covid cases')\n",
    "plt.grid()\n",
    "plt.legend(loc=\"upper left\")\n",
    "plt.show() "
   ]
  },
  {
   "cell_type": "code",
   "execution_count": null,
   "metadata": {},
   "outputs": [],
   "source": []
  }
 ],
 "metadata": {
  "colab": {
   "collapsed_sections": [],
   "name": "AuE6930 Mini Project 1.ipynb",
   "provenance": [],
   "toc_visible": true
  },
  "kernelspec": {
   "display_name": "Python 3",
   "language": "python",
   "name": "python3"
  },
  "language_info": {
   "codemirror_mode": {
    "name": "ipython",
    "version": 3
   },
   "file_extension": ".py",
   "mimetype": "text/x-python",
   "name": "python",
   "nbconvert_exporter": "python",
   "pygments_lexer": "ipython3",
   "version": "3.8.3"
  }
 },
 "nbformat": 4,
 "nbformat_minor": 4
}
